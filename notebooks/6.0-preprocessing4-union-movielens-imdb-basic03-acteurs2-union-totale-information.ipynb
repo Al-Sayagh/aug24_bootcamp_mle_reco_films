{
 "cells": [
  {
   "cell_type": "code",
   "execution_count": 1,
   "id": "a901f1be-845b-4b70-9800-47c8da014915",
   "metadata": {},
   "outputs": [],
   "source": [
    "# Packages\n",
    "import dask.dataframe as dd\n",
    "import sys\n",
    "import pandas as pd\n",
    "import matplotlib.pyplot as plt\n",
    "import seaborn as sns\n",
    "import plotly.express as px\n",
    "import re"
   ]
  },
  {
   "cell_type": "code",
   "execution_count": 41,
   "id": "5c73ffdd-cd40-4449-9909-9e9f11ebb265",
   "metadata": {},
   "outputs": [
    {
     "name": "stdout",
     "output_type": "stream",
     "text": [
      "Mémoire Totale: 15.40 GB\n",
      "Mémoire Utilisée: 5.74 GB\n",
      "Mémoire Disponible: 9.66 GB\n"
     ]
    }
   ],
   "source": [
    "import psutil\n",
    "\n",
    "# Obtenir les informations sur la mémoire\n",
    "memory_info = psutil.virtual_memory()\n",
    "\n",
    "# Afficher la mémoire totale, utilisée et disponible en GB\n",
    "total_memory = memory_info.total / (1024 ** 3)\n",
    "used_memory = memory_info.used / (1024 ** 3)\n",
    "available_memory = memory_info.available / (1024 ** 3)\n",
    "\n",
    "print(f'Mémoire Totale: {total_memory:.2f} GB')\n",
    "print(f'Mémoire Utilisée: {used_memory:.2f} GB')\n",
    "print(f'Mémoire Disponible: {available_memory:.2f} GB')"
   ]
  },
  {
   "cell_type": "code",
   "execution_count": 3,
   "id": "e1c9360a-60e6-4e29-92f4-41a497473a57",
   "metadata": {},
   "outputs": [],
   "source": [
    "MovieLens_Imdb2_Reduced_path = 'C:/Users/anacv/OneDrive/Documentos/Data Scientist/00. Projet/Data/DataFrames travaillés/1. Unions/MovieLens_Imdb/MovieLens_Imdb2_DirectorsInfoReduced2.feather'\n",
    "Actors_path = 'C:/Users/anacv/OneDrive/Documentos/Data Scientist/00. Projet/Data/DataFrames travaillés/1. Unions/MovieLens_Imdb/0_Actors(option2).feather'"
   ]
  },
  {
   "cell_type": "code",
   "execution_count": null,
   "id": "90283f0c-735f-4c47-8150-2622113bf6b2",
   "metadata": {},
   "outputs": [],
   "source": [
    "### Part III : Union avec la base de données principales\n",
    "\n",
    "# Convertir chaque fichier Feather en Parquet\n",
    "#pd.read_feather(MovieLens_Imdb2_DirectorsInfo_path).to_parquet('MovieLens_Imdb2_DirectorsInfo.parquet')"
   ]
  },
  {
   "cell_type": "code",
   "execution_count": 5,
   "id": "096f1be5-ab59-423b-9690-8d1871cde7a4",
   "metadata": {},
   "outputs": [],
   "source": [
    "Union = dd.merge(\n",
    "    pd.read_feather(MovieLens_Imdb2_Reduced_path), \n",
    "    pd.read_feather(Actors_path),\n",
    "    how='left',\n",
    "    left_on='imdbId',\n",
    "    right_on='imdbId'\n",
    ")"
   ]
  },
  {
   "cell_type": "code",
   "execution_count": 11,
   "id": "6072da37-2dad-4aa5-af7b-f57415150087",
   "metadata": {},
   "outputs": [
    {
     "name": "stdout",
     "output_type": "stream",
     "text": [
      "<class 'dask_expr.DataFrame'>\n",
      "Columns: 18 entries, userId to actors_knownForTitles_primaryTitle\n",
      "dtypes: Int64(3), datetime64[ns](1), float64(3), int64(3), string(8)"
     ]
    }
   ],
   "source": [
    "Union.info()"
   ]
  },
  {
   "cell_type": "code",
   "execution_count": 13,
   "id": "2aaaf4eb-86a1-491c-802c-66b76c7f4ce9",
   "metadata": {},
   "outputs": [
    {
     "data": {
      "text/plain": [
       "20000263"
      ]
     },
     "execution_count": 13,
     "metadata": {},
     "output_type": "execute_result"
    }
   ],
   "source": [
    "Union.shape[0].compute()"
   ]
  },
  {
   "cell_type": "code",
   "execution_count": 15,
   "id": "13a8339d-883c-457b-902f-42f39cb79553",
   "metadata": {},
   "outputs": [
    {
     "data": {
      "text/plain": [
       "Index(['userId', 'movieId', 'rating', 'date_rating', 'genres', 'title_name',\n",
       "       'release_year', 'imdbId', 'imdb_tconst', 'imdb_isAdult',\n",
       "       'imdb_runtimeMinutes', 'imdb_averageRating', 'imdb_numVotes',\n",
       "       'directors_primaryName', 'directors_knownForTitles_primaryTitle',\n",
       "       'actors_characters', 'actors_primaryName',\n",
       "       'actors_knownForTitles_primaryTitle'],\n",
       "      dtype='object')"
      ]
     },
     "execution_count": 15,
     "metadata": {},
     "output_type": "execute_result"
    }
   ],
   "source": [
    "Union.columns"
   ]
  },
  {
   "cell_type": "code",
   "execution_count": 17,
   "id": "0231c9ca-9cda-4def-8f89-1477b14d8884",
   "metadata": {},
   "outputs": [],
   "source": [
    "# Suppression des colonnes 'date_rating' et 'imdb_runtimeMinutes' de 'union'\n",
    "Union = Union.drop(columns=['date_rating', 'imdb_runtimeMinutes', 'imdb_tconst', 'imdb_isAdult'])"
   ]
  },
  {
   "cell_type": "code",
   "execution_count": 19,
   "id": "34d589ce-7734-40eb-9dd6-df8ded7c80c8",
   "metadata": {},
   "outputs": [
    {
     "name": "stdout",
     "output_type": "stream",
     "text": [
      "Le DataFrame 'union' pèse environ : 9402.99 Mo\n"
     ]
    }
   ],
   "source": [
    "# Calcul de la taille en mémoire du DataFrame 'union' en octets\n",
    "memory_usage = Union.memory_usage(deep=True).sum().compute()\n",
    "\n",
    "# Conversion en mégaoctets (optionnel)\n",
    "memory_usage_mb = memory_usage / (1024 ** 2)\n",
    "print(f\"Le DataFrame 'union' pèse environ : {memory_usage_mb:.2f} Mo\")"
   ]
  },
  {
   "cell_type": "code",
   "execution_count": 23,
   "id": "efaad82f-f7e2-428b-bba8-f3fea5eb937f",
   "metadata": {},
   "outputs": [],
   "source": [
    "# Exporter le dask DataFrame au format Parquet, en utilisant des partitions\n",
    "Union.to_parquet(r'C:\\Users\\anacv\\OneDrive\\Documentos\\Data Scientist\\00. Projet\\Data\\DataFrames travaillés\\1. Unions\\MovieLens_Imdb\\Union_option2',\n",
    "                 engine='pyarrow', write_index=False)"
   ]
  },
  {
   "cell_type": "code",
   "execution_count": 25,
   "id": "88c36cb9-cba4-41cf-b4d1-4d08d04b1f82",
   "metadata": {},
   "outputs": [
    {
     "data": {
      "text/html": [
       "<div>\n",
       "<style scoped>\n",
       "    .dataframe tbody tr th:only-of-type {\n",
       "        vertical-align: middle;\n",
       "    }\n",
       "\n",
       "    .dataframe tbody tr th {\n",
       "        vertical-align: top;\n",
       "    }\n",
       "\n",
       "    .dataframe thead th {\n",
       "        text-align: right;\n",
       "    }\n",
       "</style>\n",
       "<table border=\"1\" class=\"dataframe\">\n",
       "  <thead>\n",
       "    <tr style=\"text-align: right;\">\n",
       "      <th></th>\n",
       "      <th>userId</th>\n",
       "      <th>movieId</th>\n",
       "      <th>rating</th>\n",
       "      <th>genres</th>\n",
       "      <th>title_name</th>\n",
       "      <th>release_year</th>\n",
       "      <th>imdbId</th>\n",
       "      <th>imdb_averageRating</th>\n",
       "      <th>imdb_numVotes</th>\n",
       "      <th>directors_primaryName</th>\n",
       "      <th>directors_knownForTitles_primaryTitle</th>\n",
       "      <th>actors_characters</th>\n",
       "      <th>actors_primaryName</th>\n",
       "      <th>actors_knownForTitles_primaryTitle</th>\n",
       "    </tr>\n",
       "  </thead>\n",
       "  <tbody>\n",
       "    <tr>\n",
       "      <th>0</th>\n",
       "      <td>1</td>\n",
       "      <td>2</td>\n",
       "      <td>3.5</td>\n",
       "      <td>Adventure|Children|Fantasy</td>\n",
       "      <td>Jumanji</td>\n",
       "      <td>1995</td>\n",
       "      <td>113497</td>\n",
       "      <td>7.1</td>\n",
       "      <td>384991</td>\n",
       "      <td>Joe Johnston</td>\n",
       "      <td>Captain America: The First Avenger,The Rockete...</td>\n",
       "      <td>[\"Alan Parrish\"],[\"Judy Shepherd\"],[\"Sarah Whi...</td>\n",
       "      <td>Robin Williams,Kirsten Dunst,Bonnie Hunt</td>\n",
       "      <td>Mrs. Doubtfire,Good Morning, Vietnam,One Hour ...</td>\n",
       "    </tr>\n",
       "    <tr>\n",
       "      <th>1</th>\n",
       "      <td>1</td>\n",
       "      <td>29</td>\n",
       "      <td>3.5</td>\n",
       "      <td>Adventure|Drama|Fantasy|Mystery|Sci-Fi</td>\n",
       "      <td>City of Lost Children, The (Cité des enfants p...</td>\n",
       "      <td>1995</td>\n",
       "      <td>112682</td>\n",
       "      <td>7.5</td>\n",
       "      <td>72399</td>\n",
       "      <td>Marc Caro,Jean-Pierre Jeunet</td>\n",
       "      <td>Delicatessen,The City of Lost Children,Alien R...</td>\n",
       "      <td>[\"One\"],[\"Krank\"],[\"Miette\"]</td>\n",
       "      <td>Ron Perlman,Daniel Emilfork,Judith Vittet</td>\n",
       "      <td>Hand of God,Hellboy II: The Golden Army,Hellbo...</td>\n",
       "    </tr>\n",
       "    <tr>\n",
       "      <th>2</th>\n",
       "      <td>1</td>\n",
       "      <td>32</td>\n",
       "      <td>3.5</td>\n",
       "      <td>Mystery|Sci-Fi|Thriller</td>\n",
       "      <td>Twelve Monkeys (a.k.a. 12 Monkeys)</td>\n",
       "      <td>1995</td>\n",
       "      <td>114746</td>\n",
       "      <td>8.0</td>\n",
       "      <td>654005</td>\n",
       "      <td>Terry Gilliam</td>\n",
       "      <td>Brazil,Monty Python and the Holy Grail,The Ima...</td>\n",
       "      <td>[\"James Cole\"],[\"Kathryn Railly\"],[\"Jeffrey Go...</td>\n",
       "      <td>Bruce Willis,Madeleine Stowe,Brad Pitt</td>\n",
       "      <td>Die Hard,Pulp Fiction,Moonlighting,The Sixth S...</td>\n",
       "    </tr>\n",
       "    <tr>\n",
       "      <th>3</th>\n",
       "      <td>1</td>\n",
       "      <td>47</td>\n",
       "      <td>3.5</td>\n",
       "      <td>Mystery|Thriller</td>\n",
       "      <td>Seven (a.k.a. Se7en)</td>\n",
       "      <td>1995</td>\n",
       "      <td>114369</td>\n",
       "      <td>8.6</td>\n",
       "      <td>1839918</td>\n",
       "      <td>David Fincher</td>\n",
       "      <td>Se7en,Zodiac,Gone Girl,The Social Network</td>\n",
       "      <td>[\"Somerset\"],[\"Mills\"],[\"John Doe\"]</td>\n",
       "      <td>Morgan Freeman,Brad Pitt,Kevin Spacey</td>\n",
       "      <td>Se7en,Driving Miss Daisy,Million Dollar Baby,T...</td>\n",
       "    </tr>\n",
       "    <tr>\n",
       "      <th>4</th>\n",
       "      <td>1</td>\n",
       "      <td>50</td>\n",
       "      <td>3.5</td>\n",
       "      <td>Crime|Mystery|Thriller</td>\n",
       "      <td>Usual Suspects, The</td>\n",
       "      <td>1995</td>\n",
       "      <td>114814</td>\n",
       "      <td>8.5</td>\n",
       "      <td>1161903</td>\n",
       "      <td>Bryan Singer</td>\n",
       "      <td>X-Men,The Usual Suspects,Superman Returns,X-Me...</td>\n",
       "      <td>[\"Verbal\"],[\"Keaton\"],[\"Dave Kujan\"]</td>\n",
       "      <td>Kevin Spacey,Gabriel Byrne,Chazz Palminteri</td>\n",
       "      <td>L.A. Confidential,The Usual Suspects,American ...</td>\n",
       "    </tr>\n",
       "  </tbody>\n",
       "</table>\n",
       "</div>"
      ],
      "text/plain": [
       "   userId  movieId  rating                                  genres  \\\n",
       "0       1        2     3.5              Adventure|Children|Fantasy   \n",
       "1       1       29     3.5  Adventure|Drama|Fantasy|Mystery|Sci-Fi   \n",
       "2       1       32     3.5                 Mystery|Sci-Fi|Thriller   \n",
       "3       1       47     3.5                        Mystery|Thriller   \n",
       "4       1       50     3.5                  Crime|Mystery|Thriller   \n",
       "\n",
       "                                          title_name  release_year  imdbId  \\\n",
       "0                                            Jumanji          1995  113497   \n",
       "1  City of Lost Children, The (Cité des enfants p...          1995  112682   \n",
       "2                 Twelve Monkeys (a.k.a. 12 Monkeys)          1995  114746   \n",
       "3                               Seven (a.k.a. Se7en)          1995  114369   \n",
       "4                                Usual Suspects, The          1995  114814   \n",
       "\n",
       "   imdb_averageRating  imdb_numVotes         directors_primaryName  \\\n",
       "0                 7.1         384991                  Joe Johnston   \n",
       "1                 7.5          72399  Marc Caro,Jean-Pierre Jeunet   \n",
       "2                 8.0         654005                 Terry Gilliam   \n",
       "3                 8.6        1839918                 David Fincher   \n",
       "4                 8.5        1161903                  Bryan Singer   \n",
       "\n",
       "               directors_knownForTitles_primaryTitle  \\\n",
       "0  Captain America: The First Avenger,The Rockete...   \n",
       "1  Delicatessen,The City of Lost Children,Alien R...   \n",
       "2  Brazil,Monty Python and the Holy Grail,The Ima...   \n",
       "3          Se7en,Zodiac,Gone Girl,The Social Network   \n",
       "4  X-Men,The Usual Suspects,Superman Returns,X-Me...   \n",
       "\n",
       "                                   actors_characters  \\\n",
       "0  [\"Alan Parrish\"],[\"Judy Shepherd\"],[\"Sarah Whi...   \n",
       "1                       [\"One\"],[\"Krank\"],[\"Miette\"]   \n",
       "2  [\"James Cole\"],[\"Kathryn Railly\"],[\"Jeffrey Go...   \n",
       "3                [\"Somerset\"],[\"Mills\"],[\"John Doe\"]   \n",
       "4               [\"Verbal\"],[\"Keaton\"],[\"Dave Kujan\"]   \n",
       "\n",
       "                            actors_primaryName  \\\n",
       "0     Robin Williams,Kirsten Dunst,Bonnie Hunt   \n",
       "1    Ron Perlman,Daniel Emilfork,Judith Vittet   \n",
       "2       Bruce Willis,Madeleine Stowe,Brad Pitt   \n",
       "3        Morgan Freeman,Brad Pitt,Kevin Spacey   \n",
       "4  Kevin Spacey,Gabriel Byrne,Chazz Palminteri   \n",
       "\n",
       "                  actors_knownForTitles_primaryTitle  \n",
       "0  Mrs. Doubtfire,Good Morning, Vietnam,One Hour ...  \n",
       "1  Hand of God,Hellboy II: The Golden Army,Hellbo...  \n",
       "2  Die Hard,Pulp Fiction,Moonlighting,The Sixth S...  \n",
       "3  Se7en,Driving Miss Daisy,Million Dollar Baby,T...  \n",
       "4  L.A. Confidential,The Usual Suspects,American ...  "
      ]
     },
     "execution_count": 25,
     "metadata": {},
     "output_type": "execute_result"
    }
   ],
   "source": [
    "Union.head(5)"
   ]
  },
  {
   "cell_type": "code",
   "execution_count": null,
   "id": "57e8f397-66d5-41ef-ac99-8652a96f7c63",
   "metadata": {},
   "outputs": [],
   "source": []
  },
  {
   "cell_type": "code",
   "execution_count": null,
   "id": "fdd82613-9891-4020-945d-9968c31f7814",
   "metadata": {},
   "outputs": [],
   "source": [
    "### Pour la lecture :\n",
    "\n",
    "union_loaded = dd.read_parquet(r'C:\\Users\\anacv\\OneDrive\\Documentos\\Data Scientist\\00. Projet\\Data\\DataFrames travaillés\\1. Unions\\MovieLens_Imdb\\Union_option2')\n",
    "\n"
   ]
  },
  {
   "cell_type": "code",
   "execution_count": null,
   "id": "e33a5c4c-fe75-4433-9ceb-7f197187fccf",
   "metadata": {},
   "outputs": [],
   "source": []
  },
  {
   "cell_type": "code",
   "execution_count": null,
   "id": "a7a0e3e4-38f3-4f79-90f1-d2d81de26dc0",
   "metadata": {},
   "outputs": [],
   "source": []
  },
  {
   "cell_type": "code",
   "execution_count": null,
   "id": "7b385b5a-0e7e-4040-bd4f-4eac28bd4f5a",
   "metadata": {},
   "outputs": [],
   "source": []
  },
  {
   "cell_type": "code",
   "execution_count": null,
   "id": "191400a3-54fc-4db1-aa4f-5e343179e613",
   "metadata": {},
   "outputs": [],
   "source": []
  },
  {
   "cell_type": "code",
   "execution_count": 23,
   "id": "3463e802-6767-41ef-8fab-59f7015c3aa5",
   "metadata": {},
   "outputs": [],
   "source": [
    "        ### Pour libèrer du mémoire : Sauvegarde du DataFrame 'Union'\n",
    "\n",
    "# Vérifier l'utilisation de la mémoire en bytes\n",
    "memory_usage_bytes = Union.memory_usage(deep=True).sum()\n",
    "\n",
    "\n"
   ]
  },
  {
   "cell_type": "code",
   "execution_count": 27,
   "id": "2efbdfc8-0b40-47d9-8c79-fc56b691b11d",
   "metadata": {},
   "outputs": [
    {
     "ename": "TypeError",
     "evalue": "unsupported format string passed to Scalar.__format__",
     "output_type": "error",
     "traceback": [
      "\u001b[1;31m---------------------------------------------------------------------------\u001b[0m",
      "\u001b[1;31mTypeError\u001b[0m                                 Traceback (most recent call last)",
      "Cell \u001b[1;32mIn[27], line 4\u001b[0m\n\u001b[0;32m      1\u001b[0m \u001b[38;5;66;03m# Convertir en mégaoctets (MB)\u001b[39;00m\n\u001b[0;32m      2\u001b[0m memory_usage_MB \u001b[38;5;241m=\u001b[39m memory_usage_bytes \u001b[38;5;241m/\u001b[39m \u001b[38;5;241m1024\u001b[39m\u001b[38;5;241m*\u001b[39m\u001b[38;5;241m*\u001b[39m\u001b[38;5;241m2\u001b[39m\n\u001b[1;32m----> 4\u001b[0m \u001b[38;5;28mprint\u001b[39m(\u001b[38;5;124mf\u001b[39m\u001b[38;5;124m'\u001b[39m\u001b[38;5;124mLe DataFrame Union pèse environ \u001b[39m\u001b[38;5;132;01m{\u001b[39;00mmemory_usage_MB\u001b[38;5;132;01m:\u001b[39;00m\u001b[38;5;124m.2f\u001b[39m\u001b[38;5;132;01m}\u001b[39;00m\u001b[38;5;124m MB en mémoire.\u001b[39m\u001b[38;5;124m'\u001b[39m)\n",
      "\u001b[1;31mTypeError\u001b[0m: unsupported format string passed to Scalar.__format__"
     ]
    }
   ],
   "source": [
    "# Convertir en mégaoctets (MB)\n",
    "memory_usage_MB = memory_usage_bytes / 1024**2\n",
    "\n",
    "print(f'Le DataFrame Union pèse environ {memory_usage_MB:.2f} MB en mémoire.')\n",
    "\n",
    "# Sauvegarder le fichier\n",
    "#Union.to_feather(r'C:\\Users\\anacv\\OneDrive\\Documentos\\Data Scientist\\00. Projet\\Data\\DataFrames travaillés\\1. Unions\\MovieLens_Imdb\\Union.feather')"
   ]
  },
  {
   "cell_type": "code",
   "execution_count": 43,
   "id": "78ccf2d5-66bc-49f0-b0c3-d8e61840f224",
   "metadata": {},
   "outputs": [
    {
     "ename": "KeyboardInterrupt",
     "evalue": "",
     "output_type": "error",
     "traceback": [
      "\u001b[1;31m---------------------------------------------------------------------------\u001b[0m",
      "\u001b[1;31mKeyboardInterrupt\u001b[0m                         Traceback (most recent call last)",
      "Cell \u001b[1;32mIn[43], line 4\u001b[0m\n\u001b[0;32m      1\u001b[0m \u001b[38;5;66;03m# Sauvegarder le fichier\u001b[39;00m\n\u001b[0;32m      2\u001b[0m \u001b[38;5;66;03m# Augmenter le nombre de partitions pour réduire la taille de chaque écriture\u001b[39;00m\n\u001b[0;32m      3\u001b[0m Union \u001b[38;5;241m=\u001b[39m Union\u001b[38;5;241m.\u001b[39mrepartition(npartitions\u001b[38;5;241m=\u001b[39m\u001b[38;5;241m1000\u001b[39m)\n\u001b[1;32m----> 4\u001b[0m Union\u001b[38;5;241m.\u001b[39mto_parquet(\n\u001b[0;32m      5\u001b[0m     \u001b[38;5;124mr\u001b[39m\u001b[38;5;124m'\u001b[39m\u001b[38;5;124mC:\u001b[39m\u001b[38;5;124m\\\u001b[39m\u001b[38;5;124mUsers\u001b[39m\u001b[38;5;124m\\\u001b[39m\u001b[38;5;124manacv\u001b[39m\u001b[38;5;124m\\\u001b[39m\u001b[38;5;124mOneDrive\u001b[39m\u001b[38;5;124m\\\u001b[39m\u001b[38;5;124mDocumentos\u001b[39m\u001b[38;5;124m\\\u001b[39m\u001b[38;5;124mData Scientist\u001b[39m\u001b[38;5;124m\\\u001b[39m\u001b[38;5;124m00. Projet\u001b[39m\u001b[38;5;124m\\\u001b[39m\u001b[38;5;124mData\u001b[39m\u001b[38;5;124m\\\u001b[39m\u001b[38;5;124mDataFrames travaillés\u001b[39m\u001b[38;5;124m\\\u001b[39m\u001b[38;5;124m1. Unions\u001b[39m\u001b[38;5;124m\\\u001b[39m\u001b[38;5;124mMovieLens_Imdb\u001b[39m\u001b[38;5;124m\\\u001b[39m\u001b[38;5;124mUnion_parquet\u001b[39m\u001b[38;5;124m'\u001b[39m,\n\u001b[0;32m      6\u001b[0m     compression\u001b[38;5;241m=\u001b[39m\u001b[38;5;124m'\u001b[39m\u001b[38;5;124mgzip\u001b[39m\u001b[38;5;124m'\u001b[39m  \u001b[38;5;66;03m# ou snappy\u001b[39;00m\n\u001b[0;32m      7\u001b[0m )\n",
      "File \u001b[1;32mC:\\ProgramData\\anaconda3\\Lib\\site-packages\\dask_expr\\_collection.py:3266\u001b[0m, in \u001b[0;36mDataFrame.to_parquet\u001b[1;34m(self, path, **kwargs)\u001b[0m\n\u001b[0;32m   3263\u001b[0m \u001b[38;5;28;01mdef\u001b[39;00m \u001b[38;5;21mto_parquet\u001b[39m(\u001b[38;5;28mself\u001b[39m, path, \u001b[38;5;241m*\u001b[39m\u001b[38;5;241m*\u001b[39mkwargs):\n\u001b[0;32m   3264\u001b[0m     \u001b[38;5;28;01mfrom\u001b[39;00m \u001b[38;5;21;01mdask_expr\u001b[39;00m\u001b[38;5;21;01m.\u001b[39;00m\u001b[38;5;21;01mio\u001b[39;00m\u001b[38;5;21;01m.\u001b[39;00m\u001b[38;5;21;01mparquet\u001b[39;00m \u001b[38;5;28;01mimport\u001b[39;00m to_parquet\n\u001b[1;32m-> 3266\u001b[0m     \u001b[38;5;28;01mreturn\u001b[39;00m to_parquet(\u001b[38;5;28mself\u001b[39m, path, \u001b[38;5;241m*\u001b[39m\u001b[38;5;241m*\u001b[39mkwargs)\n",
      "File \u001b[1;32mC:\\ProgramData\\anaconda3\\Lib\\site-packages\\dask_expr\\io\\parquet.py:593\u001b[0m, in \u001b[0;36mto_parquet\u001b[1;34m(df, path, compression, write_index, append, overwrite, ignore_divisions, partition_on, storage_options, custom_metadata, write_metadata_file, compute, compute_kwargs, schema, name_function, filesystem, engine, **kwargs)\u001b[0m\n\u001b[0;32m    583\u001b[0m     \u001b[38;5;28;01mraise\u001b[39;00m \u001b[38;5;167;01mValueError\u001b[39;00m(\n\u001b[0;32m    584\u001b[0m         \u001b[38;5;124m\"\u001b[39m\u001b[38;5;124mUser-defined key/value metadata (custom_metadata) can not \u001b[39m\u001b[38;5;124m\"\u001b[39m\n\u001b[0;32m    585\u001b[0m         \u001b[38;5;124m\"\u001b[39m\u001b[38;5;124mcontain a b\u001b[39m\u001b[38;5;124m'\u001b[39m\u001b[38;5;124mpandas\u001b[39m\u001b[38;5;124m'\u001b[39m\u001b[38;5;124m key.  This key is reserved by Pandas, \u001b[39m\u001b[38;5;124m\"\u001b[39m\n\u001b[0;32m    586\u001b[0m         \u001b[38;5;124m\"\u001b[39m\u001b[38;5;124mand overwriting the corresponding value can render the \u001b[39m\u001b[38;5;124m\"\u001b[39m\n\u001b[0;32m    587\u001b[0m         \u001b[38;5;124m\"\u001b[39m\u001b[38;5;124mentire dataset unreadable.\u001b[39m\u001b[38;5;124m\"\u001b[39m\n\u001b[0;32m    588\u001b[0m     )\n\u001b[0;32m    590\u001b[0m \u001b[38;5;66;03m# Engine-specific initialization steps to write the dataset.\u001b[39;00m\n\u001b[0;32m    591\u001b[0m \u001b[38;5;66;03m# Possibly create parquet metadata, and load existing stuff if appending\u001b[39;00m\n\u001b[0;32m    592\u001b[0m i_offset, fmd, metadata_file_exists, extra_write_kwargs \u001b[38;5;241m=\u001b[39m engine\u001b[38;5;241m.\u001b[39minitialize_write(\n\u001b[1;32m--> 593\u001b[0m     df\u001b[38;5;241m.\u001b[39mto_legacy_dataframe(),\n\u001b[0;32m    594\u001b[0m     fs,\n\u001b[0;32m    595\u001b[0m     path,\n\u001b[0;32m    596\u001b[0m     append\u001b[38;5;241m=\u001b[39mappend,\n\u001b[0;32m    597\u001b[0m     ignore_divisions\u001b[38;5;241m=\u001b[39mignore_divisions,\n\u001b[0;32m    598\u001b[0m     partition_on\u001b[38;5;241m=\u001b[39mpartition_on,\n\u001b[0;32m    599\u001b[0m     division_info\u001b[38;5;241m=\u001b[39mdivision_info,\n\u001b[0;32m    600\u001b[0m     index_cols\u001b[38;5;241m=\u001b[39mindex_cols,\n\u001b[0;32m    601\u001b[0m     schema\u001b[38;5;241m=\u001b[39mschema,\n\u001b[0;32m    602\u001b[0m     custom_metadata\u001b[38;5;241m=\u001b[39mcustom_metadata,\n\u001b[0;32m    603\u001b[0m     \u001b[38;5;241m*\u001b[39m\u001b[38;5;241m*\u001b[39mkwargs,\n\u001b[0;32m    604\u001b[0m )\n\u001b[0;32m    606\u001b[0m \u001b[38;5;66;03m# By default we only write a metadata file when appending if one already\u001b[39;00m\n\u001b[0;32m    607\u001b[0m \u001b[38;5;66;03m# exists\u001b[39;00m\n\u001b[0;32m    608\u001b[0m \u001b[38;5;28;01mif\u001b[39;00m append \u001b[38;5;129;01mand\u001b[39;00m write_metadata_file \u001b[38;5;129;01mis\u001b[39;00m \u001b[38;5;28;01mNone\u001b[39;00m:\n",
      "File \u001b[1;32mC:\\ProgramData\\anaconda3\\Lib\\site-packages\\dask_expr\\_collection.py:1386\u001b[0m, in \u001b[0;36mFrameBase.to_legacy_dataframe\u001b[1;34m(self, optimize, **optimize_kwargs)\u001b[0m\n\u001b[0;32m   1376\u001b[0m \u001b[38;5;250m\u001b[39m\u001b[38;5;124;03m\"\"\"Convert to a legacy dask-dataframe collection\u001b[39;00m\n\u001b[0;32m   1377\u001b[0m \n\u001b[0;32m   1378\u001b[0m \u001b[38;5;124;03mParameters\u001b[39;00m\n\u001b[1;32m   (...)\u001b[0m\n\u001b[0;32m   1383\u001b[0m \u001b[38;5;124;03m    Key-word arguments to pass through to `optimize`.\u001b[39;00m\n\u001b[0;32m   1384\u001b[0m \u001b[38;5;124;03m\"\"\"\u001b[39;00m\n\u001b[0;32m   1385\u001b[0m df \u001b[38;5;241m=\u001b[39m \u001b[38;5;28mself\u001b[39m\u001b[38;5;241m.\u001b[39moptimize(\u001b[38;5;241m*\u001b[39m\u001b[38;5;241m*\u001b[39moptimize_kwargs) \u001b[38;5;28;01mif\u001b[39;00m optimize \u001b[38;5;28;01melse\u001b[39;00m \u001b[38;5;28mself\u001b[39m\n\u001b[1;32m-> 1386\u001b[0m \u001b[38;5;28;01mreturn\u001b[39;00m new_dd_object(df\u001b[38;5;241m.\u001b[39mdask, df\u001b[38;5;241m.\u001b[39m_name, df\u001b[38;5;241m.\u001b[39m_meta, df\u001b[38;5;241m.\u001b[39mdivisions)\n",
      "File \u001b[1;32mC:\\ProgramData\\anaconda3\\Lib\\site-packages\\dask_expr\\_collection.py:594\u001b[0m, in \u001b[0;36mFrameBase.dask\u001b[1;34m(self)\u001b[0m\n\u001b[0;32m    592\u001b[0m \u001b[38;5;129m@property\u001b[39m\n\u001b[0;32m    593\u001b[0m \u001b[38;5;28;01mdef\u001b[39;00m \u001b[38;5;21mdask\u001b[39m(\u001b[38;5;28mself\u001b[39m):\n\u001b[1;32m--> 594\u001b[0m     \u001b[38;5;28;01mreturn\u001b[39;00m \u001b[38;5;28mself\u001b[39m\u001b[38;5;241m.\u001b[39m__dask_graph__()\n",
      "File \u001b[1;32mC:\\ProgramData\\anaconda3\\Lib\\site-packages\\dask_expr\\_collection.py:559\u001b[0m, in \u001b[0;36mFrameBase.__dask_graph__\u001b[1;34m(self)\u001b[0m\n\u001b[0;32m    557\u001b[0m out \u001b[38;5;241m=\u001b[39m \u001b[38;5;28mself\u001b[39m\u001b[38;5;241m.\u001b[39mexpr\n\u001b[0;32m    558\u001b[0m out \u001b[38;5;241m=\u001b[39m out\u001b[38;5;241m.\u001b[39mlower_completely()\n\u001b[1;32m--> 559\u001b[0m \u001b[38;5;28;01mreturn\u001b[39;00m out\u001b[38;5;241m.\u001b[39m__dask_graph__()\n",
      "File \u001b[1;32mC:\\ProgramData\\anaconda3\\Lib\\site-packages\\dask_expr\\_core.py:498\u001b[0m, in \u001b[0;36mExpr.__dask_graph__\u001b[1;34m(self)\u001b[0m\n\u001b[0;32m    495\u001b[0m     \u001b[38;5;28;01mcontinue\u001b[39;00m\n\u001b[0;32m    496\u001b[0m seen\u001b[38;5;241m.\u001b[39madd(expr\u001b[38;5;241m.\u001b[39m_name)\n\u001b[1;32m--> 498\u001b[0m layers\u001b[38;5;241m.\u001b[39mappend(expr\u001b[38;5;241m.\u001b[39m_layer())\n\u001b[0;32m    499\u001b[0m \u001b[38;5;28;01mfor\u001b[39;00m operand \u001b[38;5;129;01min\u001b[39;00m expr\u001b[38;5;241m.\u001b[39mdependencies():\n\u001b[0;32m    500\u001b[0m     stack\u001b[38;5;241m.\u001b[39mappend(operand)\n",
      "File \u001b[1;32mC:\\ProgramData\\anaconda3\\Lib\\site-packages\\dask_expr\\_core.py:230\u001b[0m, in \u001b[0;36mExpr._layer\u001b[1;34m(self)\u001b[0m\n\u001b[0;32m    207\u001b[0m \u001b[38;5;28;01mdef\u001b[39;00m \u001b[38;5;21m_layer\u001b[39m(\u001b[38;5;28mself\u001b[39m) \u001b[38;5;241m-\u001b[39m\u001b[38;5;241m>\u001b[39m \u001b[38;5;28mdict\u001b[39m:\n\u001b[0;32m    208\u001b[0m \u001b[38;5;250m    \u001b[39m\u001b[38;5;124;03m\"\"\"The graph layer added by this expression\u001b[39;00m\n\u001b[0;32m    209\u001b[0m \n\u001b[0;32m    210\u001b[0m \u001b[38;5;124;03m    Examples\u001b[39;00m\n\u001b[1;32m   (...)\u001b[0m\n\u001b[0;32m    227\u001b[0m \u001b[38;5;124;03m    Expr.__dask_graph__\u001b[39;00m\n\u001b[0;32m    228\u001b[0m \u001b[38;5;124;03m    \"\"\"\u001b[39;00m\n\u001b[1;32m--> 230\u001b[0m     \u001b[38;5;28;01mreturn\u001b[39;00m {(\u001b[38;5;28mself\u001b[39m\u001b[38;5;241m.\u001b[39m_name, i): \u001b[38;5;28mself\u001b[39m\u001b[38;5;241m.\u001b[39m_task(i) \u001b[38;5;28;01mfor\u001b[39;00m i \u001b[38;5;129;01min\u001b[39;00m \u001b[38;5;28mrange\u001b[39m(\u001b[38;5;28mself\u001b[39m\u001b[38;5;241m.\u001b[39mnpartitions)}\n",
      "File \u001b[1;32mC:\\ProgramData\\anaconda3\\Lib\\site-packages\\dask_expr\\_expr.py:2931\u001b[0m, in \u001b[0;36mPartitionsFiltered._task\u001b[1;34m(self, index)\u001b[0m\n\u001b[0;32m   2930\u001b[0m \u001b[38;5;28;01mdef\u001b[39;00m \u001b[38;5;21m_task\u001b[39m(\u001b[38;5;28mself\u001b[39m, index: \u001b[38;5;28mint\u001b[39m):\n\u001b[1;32m-> 2931\u001b[0m     \u001b[38;5;28;01mreturn\u001b[39;00m \u001b[38;5;28mself\u001b[39m\u001b[38;5;241m.\u001b[39m_filtered_task(\u001b[38;5;28mself\u001b[39m\u001b[38;5;241m.\u001b[39m_partitions[index])\n",
      "File \u001b[1;32mC:\\ProgramData\\anaconda3\\Lib\\site-packages\\dask_expr\\io\\io.py:488\u001b[0m, in \u001b[0;36mFromPandas._filtered_task\u001b[1;34m(self, index)\u001b[0m\n\u001b[0;32m    486\u001b[0m \u001b[38;5;28;01mdef\u001b[39;00m \u001b[38;5;21m_filtered_task\u001b[39m(\u001b[38;5;28mself\u001b[39m, index: \u001b[38;5;28mint\u001b[39m):\n\u001b[0;32m    487\u001b[0m     start, stop \u001b[38;5;241m=\u001b[39m \u001b[38;5;28mself\u001b[39m\u001b[38;5;241m.\u001b[39m_locations()[index : index \u001b[38;5;241m+\u001b[39m \u001b[38;5;241m2\u001b[39m]\n\u001b[1;32m--> 488\u001b[0m     part \u001b[38;5;241m=\u001b[39m \u001b[38;5;28mself\u001b[39m\u001b[38;5;241m.\u001b[39mframe\u001b[38;5;241m.\u001b[39miloc[start:stop]\n\u001b[0;32m    489\u001b[0m     \u001b[38;5;28;01mif\u001b[39;00m \u001b[38;5;28mself\u001b[39m\u001b[38;5;241m.\u001b[39mpyarrow_strings_enabled:\n\u001b[0;32m    490\u001b[0m         part \u001b[38;5;241m=\u001b[39m to_pyarrow_string(part)\n",
      "File \u001b[1;32mC:\\ProgramData\\anaconda3\\Lib\\site-packages\\pandas\\core\\indexing.py:1191\u001b[0m, in \u001b[0;36m_LocationIndexer.__getitem__\u001b[1;34m(self, key)\u001b[0m\n\u001b[0;32m   1189\u001b[0m maybe_callable \u001b[38;5;241m=\u001b[39m com\u001b[38;5;241m.\u001b[39mapply_if_callable(key, \u001b[38;5;28mself\u001b[39m\u001b[38;5;241m.\u001b[39mobj)\n\u001b[0;32m   1190\u001b[0m maybe_callable \u001b[38;5;241m=\u001b[39m \u001b[38;5;28mself\u001b[39m\u001b[38;5;241m.\u001b[39m_check_deprecated_callable_usage(key, maybe_callable)\n\u001b[1;32m-> 1191\u001b[0m \u001b[38;5;28;01mreturn\u001b[39;00m \u001b[38;5;28mself\u001b[39m\u001b[38;5;241m.\u001b[39m_getitem_axis(maybe_callable, axis\u001b[38;5;241m=\u001b[39maxis)\n",
      "File \u001b[1;32mC:\\ProgramData\\anaconda3\\Lib\\site-packages\\pandas\\core\\indexing.py:1729\u001b[0m, in \u001b[0;36m_iLocIndexer._getitem_axis\u001b[1;34m(self, key, axis)\u001b[0m\n\u001b[0;32m   1723\u001b[0m     \u001b[38;5;28;01mraise\u001b[39;00m \u001b[38;5;167;01mIndexError\u001b[39;00m(\n\u001b[0;32m   1724\u001b[0m         \u001b[38;5;124m\"\u001b[39m\u001b[38;5;124mDataFrame indexer is not allowed for .iloc\u001b[39m\u001b[38;5;130;01m\\n\u001b[39;00m\u001b[38;5;124m\"\u001b[39m\n\u001b[0;32m   1725\u001b[0m         \u001b[38;5;124m\"\u001b[39m\u001b[38;5;124mConsider using .loc for automatic alignment.\u001b[39m\u001b[38;5;124m\"\u001b[39m\n\u001b[0;32m   1726\u001b[0m     )\n\u001b[0;32m   1728\u001b[0m \u001b[38;5;28;01mif\u001b[39;00m \u001b[38;5;28misinstance\u001b[39m(key, \u001b[38;5;28mslice\u001b[39m):\n\u001b[1;32m-> 1729\u001b[0m     \u001b[38;5;28;01mreturn\u001b[39;00m \u001b[38;5;28mself\u001b[39m\u001b[38;5;241m.\u001b[39m_get_slice_axis(key, axis\u001b[38;5;241m=\u001b[39maxis)\n\u001b[0;32m   1731\u001b[0m \u001b[38;5;28;01mif\u001b[39;00m is_iterator(key):\n\u001b[0;32m   1732\u001b[0m     key \u001b[38;5;241m=\u001b[39m \u001b[38;5;28mlist\u001b[39m(key)\n",
      "File \u001b[1;32mC:\\ProgramData\\anaconda3\\Lib\\site-packages\\pandas\\core\\indexing.py:1765\u001b[0m, in \u001b[0;36m_iLocIndexer._get_slice_axis\u001b[1;34m(self, slice_obj, axis)\u001b[0m\n\u001b[0;32m   1763\u001b[0m labels \u001b[38;5;241m=\u001b[39m obj\u001b[38;5;241m.\u001b[39m_get_axis(axis)\n\u001b[0;32m   1764\u001b[0m labels\u001b[38;5;241m.\u001b[39m_validate_positional_slice(slice_obj)\n\u001b[1;32m-> 1765\u001b[0m \u001b[38;5;28;01mreturn\u001b[39;00m \u001b[38;5;28mself\u001b[39m\u001b[38;5;241m.\u001b[39mobj\u001b[38;5;241m.\u001b[39m_slice(slice_obj, axis\u001b[38;5;241m=\u001b[39maxis)\n",
      "File \u001b[1;32mC:\\ProgramData\\anaconda3\\Lib\\site-packages\\pandas\\core\\generic.py:4369\u001b[0m, in \u001b[0;36mNDFrame._slice\u001b[1;34m(self, slobj, axis)\u001b[0m\n\u001b[0;32m   4367\u001b[0m \u001b[38;5;28;01massert\u001b[39;00m \u001b[38;5;28misinstance\u001b[39m(slobj, \u001b[38;5;28mslice\u001b[39m), \u001b[38;5;28mtype\u001b[39m(slobj)\n\u001b[0;32m   4368\u001b[0m axis \u001b[38;5;241m=\u001b[39m \u001b[38;5;28mself\u001b[39m\u001b[38;5;241m.\u001b[39m_get_block_manager_axis(axis)\n\u001b[1;32m-> 4369\u001b[0m new_mgr \u001b[38;5;241m=\u001b[39m \u001b[38;5;28mself\u001b[39m\u001b[38;5;241m.\u001b[39m_mgr\u001b[38;5;241m.\u001b[39mget_slice(slobj, axis\u001b[38;5;241m=\u001b[39maxis)\n\u001b[0;32m   4370\u001b[0m result \u001b[38;5;241m=\u001b[39m \u001b[38;5;28mself\u001b[39m\u001b[38;5;241m.\u001b[39m_constructor_from_mgr(new_mgr, axes\u001b[38;5;241m=\u001b[39mnew_mgr\u001b[38;5;241m.\u001b[39maxes)\n\u001b[0;32m   4371\u001b[0m result \u001b[38;5;241m=\u001b[39m result\u001b[38;5;241m.\u001b[39m__finalize__(\u001b[38;5;28mself\u001b[39m)\n",
      "File \u001b[1;32minternals.pyx:871\u001b[0m, in \u001b[0;36mpandas._libs.internals.BlockManager.get_slice\u001b[1;34m()\u001b[0m\n",
      "File \u001b[1;32minternals.pyx:852\u001b[0m, in \u001b[0;36mpandas._libs.internals.BlockManager._slice_mgr_rows\u001b[1;34m()\u001b[0m\n",
      "File \u001b[1;32minternals.pyx:704\u001b[0m, in \u001b[0;36mpandas._libs.internals.Block.slice_block_rows\u001b[1;34m()\u001b[0m\n",
      "File \u001b[1;32mC:\\ProgramData\\anaconda3\\Lib\\site-packages\\pandas\\core\\internals\\blocks.py:2528\u001b[0m, in \u001b[0;36mExtensionBlock.slice_block_rows\u001b[1;34m(self, slicer)\u001b[0m\n\u001b[0;32m   2523\u001b[0m \u001b[38;5;250m\u001b[39m\u001b[38;5;124;03m\"\"\"\u001b[39;00m\n\u001b[0;32m   2524\u001b[0m \u001b[38;5;124;03mPerform __getitem__-like specialized to slicing along index.\u001b[39;00m\n\u001b[0;32m   2525\u001b[0m \u001b[38;5;124;03m\"\"\"\u001b[39;00m\n\u001b[0;32m   2526\u001b[0m \u001b[38;5;66;03m# GH#42787 in principle this is equivalent to values[..., slicer], but we don't\u001b[39;00m\n\u001b[0;32m   2527\u001b[0m \u001b[38;5;66;03m# require subclasses of ExtensionArray to support that form (for now).\u001b[39;00m\n\u001b[1;32m-> 2528\u001b[0m new_values \u001b[38;5;241m=\u001b[39m \u001b[38;5;28mself\u001b[39m\u001b[38;5;241m.\u001b[39mvalues[slicer]\n\u001b[0;32m   2529\u001b[0m \u001b[38;5;28;01mreturn\u001b[39;00m \u001b[38;5;28mtype\u001b[39m(\u001b[38;5;28mself\u001b[39m)(new_values, \u001b[38;5;28mself\u001b[39m\u001b[38;5;241m.\u001b[39m_mgr_locs, ndim\u001b[38;5;241m=\u001b[39m\u001b[38;5;28mself\u001b[39m\u001b[38;5;241m.\u001b[39mndim, refs\u001b[38;5;241m=\u001b[39m\u001b[38;5;28mself\u001b[39m\u001b[38;5;241m.\u001b[39mrefs)\n",
      "File \u001b[1;32mC:\\ProgramData\\anaconda3\\Lib\\site-packages\\pandas\\core\\arrays\\_mixins.py:297\u001b[0m, in \u001b[0;36mNDArrayBackedExtensionArray.__getitem__\u001b[1;34m(self, key)\u001b[0m\n\u001b[0;32m    294\u001b[0m \u001b[38;5;28;01mif\u001b[39;00m lib\u001b[38;5;241m.\u001b[39mis_scalar(result):\n\u001b[0;32m    295\u001b[0m     \u001b[38;5;28;01mreturn\u001b[39;00m \u001b[38;5;28mself\u001b[39m\u001b[38;5;241m.\u001b[39m_box_func(result)\n\u001b[1;32m--> 297\u001b[0m result \u001b[38;5;241m=\u001b[39m \u001b[38;5;28mself\u001b[39m\u001b[38;5;241m.\u001b[39m_from_backing_data(result)\n\u001b[0;32m    298\u001b[0m \u001b[38;5;28;01mreturn\u001b[39;00m result\n",
      "File \u001b[1;32mC:\\ProgramData\\anaconda3\\Lib\\site-packages\\pandas\\core\\arrays\\numpy_.py:141\u001b[0m, in \u001b[0;36mNumpyExtensionArray._from_backing_data\u001b[1;34m(self, arr)\u001b[0m\n\u001b[0;32m    140\u001b[0m \u001b[38;5;28;01mdef\u001b[39;00m \u001b[38;5;21m_from_backing_data\u001b[39m(\u001b[38;5;28mself\u001b[39m, arr: np\u001b[38;5;241m.\u001b[39mndarray) \u001b[38;5;241m-\u001b[39m\u001b[38;5;241m>\u001b[39m NumpyExtensionArray:\n\u001b[1;32m--> 141\u001b[0m     \u001b[38;5;28;01mreturn\u001b[39;00m \u001b[38;5;28mtype\u001b[39m(\u001b[38;5;28mself\u001b[39m)(arr)\n",
      "File \u001b[1;32mC:\\ProgramData\\anaconda3\\Lib\\site-packages\\pandas\\core\\arrays\\string_.py:364\u001b[0m, in \u001b[0;36mStringArray.__init__\u001b[1;34m(self, values, copy)\u001b[0m\n\u001b[0;32m    362\u001b[0m \u001b[38;5;28msuper\u001b[39m()\u001b[38;5;241m.\u001b[39m\u001b[38;5;21m__init__\u001b[39m(values, copy\u001b[38;5;241m=\u001b[39mcopy)\n\u001b[0;32m    363\u001b[0m \u001b[38;5;28;01mif\u001b[39;00m \u001b[38;5;129;01mnot\u001b[39;00m \u001b[38;5;28misinstance\u001b[39m(values, \u001b[38;5;28mtype\u001b[39m(\u001b[38;5;28mself\u001b[39m)):\n\u001b[1;32m--> 364\u001b[0m     \u001b[38;5;28mself\u001b[39m\u001b[38;5;241m.\u001b[39m_validate()\n\u001b[0;32m    365\u001b[0m NDArrayBacked\u001b[38;5;241m.\u001b[39m\u001b[38;5;21m__init__\u001b[39m(\u001b[38;5;28mself\u001b[39m, \u001b[38;5;28mself\u001b[39m\u001b[38;5;241m.\u001b[39m_ndarray, StringDtype(storage\u001b[38;5;241m=\u001b[39m\u001b[38;5;124m\"\u001b[39m\u001b[38;5;124mpython\u001b[39m\u001b[38;5;124m\"\u001b[39m))\n",
      "File \u001b[1;32mC:\\ProgramData\\anaconda3\\Lib\\site-packages\\pandas\\core\\arrays\\string_.py:381\u001b[0m, in \u001b[0;36mStringArray._validate\u001b[1;34m(self)\u001b[0m\n\u001b[0;32m    379\u001b[0m     lib\u001b[38;5;241m.\u001b[39mconvert_nans_to_NA(\u001b[38;5;28mself\u001b[39m\u001b[38;5;241m.\u001b[39m_ndarray\u001b[38;5;241m.\u001b[39mravel(\u001b[38;5;124m\"\u001b[39m\u001b[38;5;124mK\u001b[39m\u001b[38;5;124m\"\u001b[39m))\n\u001b[0;32m    380\u001b[0m \u001b[38;5;28;01melse\u001b[39;00m:\n\u001b[1;32m--> 381\u001b[0m     lib\u001b[38;5;241m.\u001b[39mconvert_nans_to_NA(\u001b[38;5;28mself\u001b[39m\u001b[38;5;241m.\u001b[39m_ndarray)\n",
      "\u001b[1;31mKeyboardInterrupt\u001b[0m: "
     ]
    }
   ],
   "source": [
    "# Sauvegarder le fichier\n",
    "# Augmenter le nombre de partitions pour réduire la taille de chaque écriture\n",
    "Union = Union.repartition(npartitions=1000)\n",
    "Union.to_parquet(\n",
    "    r'C:\\Users\\anacv\\OneDrive\\Documentos\\Data Scientist\\00. Projet\\Data\\DataFrames travaillés\\1. Unions\\MovieLens_Imdb\\Union_parquet',\n",
    "    compression='gzip'  # ou snappy\n",
    ")\n"
   ]
  }
 ],
 "metadata": {
  "kernelspec": {
   "display_name": "Python 3 (ipykernel)",
   "language": "python",
   "name": "python3"
  },
  "language_info": {
   "codemirror_mode": {
    "name": "ipython",
    "version": 3
   },
   "file_extension": ".py",
   "mimetype": "text/x-python",
   "name": "python",
   "nbconvert_exporter": "python",
   "pygments_lexer": "ipython3",
   "version": "3.12.4"
  }
 },
 "nbformat": 4,
 "nbformat_minor": 5
}
