{
 "cells": [
  {
   "cell_type": "code",
   "execution_count": 1,
   "id": "f76e6fc1-486c-4ca0-b98c-52dee4159565",
   "metadata": {},
   "outputs": [],
   "source": [
    "# Packages\n",
    "import dask.dataframe as dd\n",
    "import sys\n",
    "import pandas as pd\n",
    "import matplotlib.pyplot as plt\n",
    "import seaborn as sns\n",
    "import plotly.express as px\n",
    "import re"
   ]
  },
  {
   "cell_type": "code",
   "execution_count": null,
   "id": "4f40b2be-a1ee-417e-b0e4-fa2b7e7ce3c7",
   "metadata": {},
   "outputs": [],
   "source": [
    "import psutil\n",
    "\n",
    "# Obtenir les informations sur la mémoire\n",
    "memory_info = psutil.virtual_memory()\n",
    "\n",
    "# Afficher la mémoire totale, utilisée et disponible en GB\n",
    "total_memory = memory_info.total / (1024 ** 3)\n",
    "used_memory = memory_info.used / (1024 ** 3)\n",
    "available_memory = memory_info.available / (1024 ** 3)\n",
    "\n",
    "print(f'Mémoire Totale: {total_memory:.2f} GB')\n",
    "print(f'Mémoire Utilisée: {used_memory:.2f} GB')\n",
    "print(f'Mémoire Disponible: {available_memory:.2f} GB')"
   ]
  },
  {
   "cell_type": "code",
   "execution_count": null,
   "id": "7c5b4de1-1fd6-452d-ba90-22a7c2fd548b",
   "metadata": {},
   "outputs": [],
   "source": [
    "# Afficher les tailles des objets en mémoire en parcourant une copie des clés du dictionnaire\n",
    "all_objects = sys._getframe().f_globals.copy()\n",
    "for obj_name, obj in all_objects.items():\n",
    "    print(f'{obj_name}: {sys.getsizeof(obj) / 1024**2:.2f} MB')"
   ]
  },
  {
   "cell_type": "code",
   "execution_count": null,
   "id": "5211195b-eb52-4926-a07b-91d6c11ac971",
   "metadata": {},
   "outputs": [],
   "source": [
    "# Libérer du mémoire \n",
    "import gc\n",
    "\n",
    "# Supprimer l'objet volumineux\n",
    "del imdb1\n",
    "\n",
    "# Forcer le garbage collector à libérer la mémoire\n",
    "gc.collect()"
   ]
  },
  {
   "cell_type": "code",
   "execution_count": 3,
   "id": "133a9826-e251-4a03-b54e-2a24fef030a2",
   "metadata": {},
   "outputs": [],
   "source": [
    "# Paths\n",
    "MovieLens_Imdb_path = 'C:/Users/anacv/OneDrive/Documentos/Data Scientist/00. Projet/Data/DataFrames travaillés/1. Unions/MovieLens_Imdb/MovieLens_Imdb1.feather'\n",
    "name_basics_path = 'C:/Users/anacv/OneDrive/Documentos/Data Scientist/00. Projet/Data/DataFrames travaillés/0. Exploration/name_basics.feather'\n",
    "Imdb_path = 'C:/Users/anacv/OneDrive/Documentos/Data Scientist/00. Projet/Data/DataFrames travaillés/1. Unions/Imdb/01_title_basics_crew_ratings.feather'"
   ]
  },
  {
   "cell_type": "code",
   "execution_count": 5,
   "id": "7d6bd8f0-a97a-47c2-ad9e-cbd210904db2",
   "metadata": {},
   "outputs": [
    {
     "data": {
      "text/html": [
       "<div>\n",
       "<style scoped>\n",
       "    .dataframe tbody tr th:only-of-type {\n",
       "        vertical-align: middle;\n",
       "    }\n",
       "\n",
       "    .dataframe tbody tr th {\n",
       "        vertical-align: top;\n",
       "    }\n",
       "\n",
       "    .dataframe thead th {\n",
       "        text-align: right;\n",
       "    }\n",
       "</style>\n",
       "<table border=\"1\" class=\"dataframe\">\n",
       "  <thead>\n",
       "    <tr style=\"text-align: right;\">\n",
       "      <th></th>\n",
       "      <th>userId</th>\n",
       "      <th>movieId</th>\n",
       "      <th>rating</th>\n",
       "      <th>date_rating</th>\n",
       "      <th>time_rating</th>\n",
       "      <th>year_rating</th>\n",
       "      <th>month_rating</th>\n",
       "      <th>genres</th>\n",
       "      <th>title_name</th>\n",
       "      <th>release_year</th>\n",
       "      <th>...</th>\n",
       "      <th>imdb_isAdult</th>\n",
       "      <th>imdb_startYear</th>\n",
       "      <th>imdb_endYear</th>\n",
       "      <th>imdb_runtimeMinutes</th>\n",
       "      <th>imdb_genres</th>\n",
       "      <th>imdb_tconst_numeric</th>\n",
       "      <th>imdb_directors</th>\n",
       "      <th>imdb_writers</th>\n",
       "      <th>imdb_averageRating</th>\n",
       "      <th>imdb_numVotes</th>\n",
       "    </tr>\n",
       "  </thead>\n",
       "  <tbody>\n",
       "    <tr>\n",
       "      <th>0</th>\n",
       "      <td>1</td>\n",
       "      <td>2</td>\n",
       "      <td>3.5</td>\n",
       "      <td>2005-04-02</td>\n",
       "      <td>23:53:47</td>\n",
       "      <td>2005</td>\n",
       "      <td>4</td>\n",
       "      <td>Adventure|Children|Fantasy</td>\n",
       "      <td>Jumanji</td>\n",
       "      <td>1995</td>\n",
       "      <td>...</td>\n",
       "      <td>0</td>\n",
       "      <td>1995</td>\n",
       "      <td>&lt;NA&gt;</td>\n",
       "      <td>104.0</td>\n",
       "      <td>Adventure,Comedy,Family</td>\n",
       "      <td>113497.0</td>\n",
       "      <td>nm0002653</td>\n",
       "      <td>nm0378144,nm0852430,nm0833164,nm0885575</td>\n",
       "      <td>7.1</td>\n",
       "      <td>384991</td>\n",
       "    </tr>\n",
       "    <tr>\n",
       "      <th>1</th>\n",
       "      <td>1</td>\n",
       "      <td>29</td>\n",
       "      <td>3.5</td>\n",
       "      <td>2005-04-02</td>\n",
       "      <td>23:31:16</td>\n",
       "      <td>2005</td>\n",
       "      <td>4</td>\n",
       "      <td>Adventure|Drama|Fantasy|Mystery|Sci-Fi</td>\n",
       "      <td>City of Lost Children, The (Cité des enfants p...</td>\n",
       "      <td>1995</td>\n",
       "      <td>...</td>\n",
       "      <td>0</td>\n",
       "      <td>1995</td>\n",
       "      <td>&lt;NA&gt;</td>\n",
       "      <td>112.0</td>\n",
       "      <td>Adventure,Drama,Fantasy</td>\n",
       "      <td>112682.0</td>\n",
       "      <td>nm0001988,nm0000466</td>\n",
       "      <td>nm0012496,nm0000466,nm0001988,nm0491011</td>\n",
       "      <td>7.5</td>\n",
       "      <td>72399</td>\n",
       "    </tr>\n",
       "    <tr>\n",
       "      <th>2</th>\n",
       "      <td>1</td>\n",
       "      <td>32</td>\n",
       "      <td>3.5</td>\n",
       "      <td>2005-04-02</td>\n",
       "      <td>23:33:39</td>\n",
       "      <td>2005</td>\n",
       "      <td>4</td>\n",
       "      <td>Mystery|Sci-Fi|Thriller</td>\n",
       "      <td>Twelve Monkeys (a.k.a. 12 Monkeys)</td>\n",
       "      <td>1995</td>\n",
       "      <td>...</td>\n",
       "      <td>0</td>\n",
       "      <td>1995</td>\n",
       "      <td>&lt;NA&gt;</td>\n",
       "      <td>129.0</td>\n",
       "      <td>Mystery,Sci-Fi,Thriller</td>\n",
       "      <td>114746.0</td>\n",
       "      <td>nm0000416</td>\n",
       "      <td>nm0003408,nm0672459,nm0672466</td>\n",
       "      <td>8.0</td>\n",
       "      <td>654005</td>\n",
       "    </tr>\n",
       "    <tr>\n",
       "      <th>3</th>\n",
       "      <td>1</td>\n",
       "      <td>47</td>\n",
       "      <td>3.5</td>\n",
       "      <td>2005-04-02</td>\n",
       "      <td>23:32:07</td>\n",
       "      <td>2005</td>\n",
       "      <td>4</td>\n",
       "      <td>Mystery|Thriller</td>\n",
       "      <td>Seven (a.k.a. Se7en)</td>\n",
       "      <td>1995</td>\n",
       "      <td>...</td>\n",
       "      <td>0</td>\n",
       "      <td>1995</td>\n",
       "      <td>&lt;NA&gt;</td>\n",
       "      <td>127.0</td>\n",
       "      <td>Crime,Drama,Mystery</td>\n",
       "      <td>114369.0</td>\n",
       "      <td>nm0000399</td>\n",
       "      <td>nm0001825</td>\n",
       "      <td>8.6</td>\n",
       "      <td>1839918</td>\n",
       "    </tr>\n",
       "    <tr>\n",
       "      <th>4</th>\n",
       "      <td>1</td>\n",
       "      <td>50</td>\n",
       "      <td>3.5</td>\n",
       "      <td>2005-04-02</td>\n",
       "      <td>23:29:40</td>\n",
       "      <td>2005</td>\n",
       "      <td>4</td>\n",
       "      <td>Crime|Mystery|Thriller</td>\n",
       "      <td>Usual Suspects, The</td>\n",
       "      <td>1995</td>\n",
       "      <td>...</td>\n",
       "      <td>0</td>\n",
       "      <td>1995</td>\n",
       "      <td>&lt;NA&gt;</td>\n",
       "      <td>106.0</td>\n",
       "      <td>Crime,Drama,Mystery</td>\n",
       "      <td>114814.0</td>\n",
       "      <td>nm0001741</td>\n",
       "      <td>nm0003160</td>\n",
       "      <td>8.5</td>\n",
       "      <td>1161903</td>\n",
       "    </tr>\n",
       "  </tbody>\n",
       "</table>\n",
       "<p>5 rows × 26 columns</p>\n",
       "</div>"
      ],
      "text/plain": [
       "   userId  movieId  rating date_rating time_rating  year_rating  month_rating  \\\n",
       "0       1        2     3.5  2005-04-02    23:53:47         2005             4   \n",
       "1       1       29     3.5  2005-04-02    23:31:16         2005             4   \n",
       "2       1       32     3.5  2005-04-02    23:33:39         2005             4   \n",
       "3       1       47     3.5  2005-04-02    23:32:07         2005             4   \n",
       "4       1       50     3.5  2005-04-02    23:29:40         2005             4   \n",
       "\n",
       "                                   genres  \\\n",
       "0              Adventure|Children|Fantasy   \n",
       "1  Adventure|Drama|Fantasy|Mystery|Sci-Fi   \n",
       "2                 Mystery|Sci-Fi|Thriller   \n",
       "3                        Mystery|Thriller   \n",
       "4                  Crime|Mystery|Thriller   \n",
       "\n",
       "                                          title_name  release_year  ...  \\\n",
       "0                                            Jumanji          1995  ...   \n",
       "1  City of Lost Children, The (Cité des enfants p...          1995  ...   \n",
       "2                 Twelve Monkeys (a.k.a. 12 Monkeys)          1995  ...   \n",
       "3                               Seven (a.k.a. Se7en)          1995  ...   \n",
       "4                                Usual Suspects, The          1995  ...   \n",
       "\n",
       "   imdb_isAdult  imdb_startYear imdb_endYear imdb_runtimeMinutes  \\\n",
       "0             0            1995         <NA>               104.0   \n",
       "1             0            1995         <NA>               112.0   \n",
       "2             0            1995         <NA>               129.0   \n",
       "3             0            1995         <NA>               127.0   \n",
       "4             0            1995         <NA>               106.0   \n",
       "\n",
       "               imdb_genres imdb_tconst_numeric       imdb_directors  \\\n",
       "0  Adventure,Comedy,Family            113497.0            nm0002653   \n",
       "1  Adventure,Drama,Fantasy            112682.0  nm0001988,nm0000466   \n",
       "2  Mystery,Sci-Fi,Thriller            114746.0            nm0000416   \n",
       "3      Crime,Drama,Mystery            114369.0            nm0000399   \n",
       "4      Crime,Drama,Mystery            114814.0            nm0001741   \n",
       "\n",
       "                              imdb_writers  imdb_averageRating  imdb_numVotes  \n",
       "0  nm0378144,nm0852430,nm0833164,nm0885575                 7.1         384991  \n",
       "1  nm0012496,nm0000466,nm0001988,nm0491011                 7.5          72399  \n",
       "2            nm0003408,nm0672459,nm0672466                 8.0         654005  \n",
       "3                                nm0001825                 8.6        1839918  \n",
       "4                                nm0003160                 8.5        1161903  \n",
       "\n",
       "[5 rows x 26 columns]"
      ]
     },
     "execution_count": 5,
     "metadata": {},
     "output_type": "execute_result"
    }
   ],
   "source": [
    "# Lecture de movieLens_Imdb_path\n",
    "MovieLens_Imdb = pd.read_feather(MovieLens_Imdb_path )\n",
    "MovieLens_Imdb.head()"
   ]
  },
  {
   "cell_type": "code",
   "execution_count": 11,
   "id": "c14302b9-1499-4da7-98e3-a714ee311924",
   "metadata": {},
   "outputs": [
    {
     "name": "stdout",
     "output_type": "stream",
     "text": [
      "<class 'pandas.core.frame.DataFrame'>\n",
      "RangeIndex: 20000263 entries, 0 to 20000262\n",
      "Data columns (total 26 columns):\n",
      " #   Column               Dtype         \n",
      "---  ------               -----         \n",
      " 0   userId               int64         \n",
      " 1   movieId              int64         \n",
      " 2   rating               float64       \n",
      " 3   date_rating          datetime64[ns]\n",
      " 4   time_rating          string        \n",
      " 5   year_rating          int32         \n",
      " 6   month_rating         int32         \n",
      " 7   genres               string        \n",
      " 8   title_name           string        \n",
      " 9   release_year         Int64         \n",
      " 10  imdbId               int64         \n",
      " 11  tmdbId               float64       \n",
      " 12  imdb_tconst          string        \n",
      " 13  imdb_titleType       string        \n",
      " 14  imdb_primaryTitle    string        \n",
      " 15  imdb_originalTitle   string        \n",
      " 16  imdb_isAdult         Int64         \n",
      " 17  imdb_startYear       Int64         \n",
      " 18  imdb_endYear         Int64         \n",
      " 19  imdb_runtimeMinutes  float64       \n",
      " 20  imdb_genres          string        \n",
      " 21  imdb_tconst_numeric  float64       \n",
      " 22  imdb_directors       string        \n",
      " 23  imdb_writers         string        \n",
      " 24  imdb_averageRating   float64       \n",
      " 25  imdb_numVotes        Int64         \n",
      "dtypes: Int64(5), datetime64[ns](1), float64(5), int32(2), int64(3), string(10)\n",
      "memory usage: 3.8 GB\n"
     ]
    }
   ],
   "source": [
    "MovieLens_Imdb.info()"
   ]
  },
  {
   "cell_type": "code",
   "execution_count": 13,
   "id": "a096888b-57a0-4c30-ba07-cee029a81b6d",
   "metadata": {},
   "outputs": [
    {
     "data": {
      "text/plain": [
       "19973519"
      ]
     },
     "execution_count": 13,
     "metadata": {},
     "output_type": "execute_result"
    }
   ],
   "source": [
    "MovieLens_Imdb.duplicated('movieId').sum()"
   ]
  },
  {
   "cell_type": "code",
   "execution_count": 7,
   "id": "48961eab-53f5-4f48-886d-12415e242172",
   "metadata": {},
   "outputs": [
    {
     "data": {
      "text/html": [
       "<div>\n",
       "<style scoped>\n",
       "    .dataframe tbody tr th:only-of-type {\n",
       "        vertical-align: middle;\n",
       "    }\n",
       "\n",
       "    .dataframe tbody tr th {\n",
       "        vertical-align: top;\n",
       "    }\n",
       "\n",
       "    .dataframe thead th {\n",
       "        text-align: right;\n",
       "    }\n",
       "</style>\n",
       "<table border=\"1\" class=\"dataframe\">\n",
       "  <thead>\n",
       "    <tr style=\"text-align: right;\">\n",
       "      <th></th>\n",
       "      <th>imdbId</th>\n",
       "      <th>imdb_tconst</th>\n",
       "      <th>imdb_directors</th>\n",
       "    </tr>\n",
       "  </thead>\n",
       "  <tbody>\n",
       "    <tr>\n",
       "      <th>0</th>\n",
       "      <td>113497</td>\n",
       "      <td>tt0113497</td>\n",
       "      <td>nm0002653</td>\n",
       "    </tr>\n",
       "    <tr>\n",
       "      <th>1</th>\n",
       "      <td>112682</td>\n",
       "      <td>tt0112682</td>\n",
       "      <td>nm0001988,nm0000466</td>\n",
       "    </tr>\n",
       "    <tr>\n",
       "      <th>2</th>\n",
       "      <td>114746</td>\n",
       "      <td>tt0114746</td>\n",
       "      <td>nm0000416</td>\n",
       "    </tr>\n",
       "    <tr>\n",
       "      <th>3</th>\n",
       "      <td>114369</td>\n",
       "      <td>tt0114369</td>\n",
       "      <td>nm0000399</td>\n",
       "    </tr>\n",
       "    <tr>\n",
       "      <th>4</th>\n",
       "      <td>114814</td>\n",
       "      <td>tt0114814</td>\n",
       "      <td>nm0001741</td>\n",
       "    </tr>\n",
       "  </tbody>\n",
       "</table>\n",
       "</div>"
      ],
      "text/plain": [
       "   imdbId imdb_tconst       imdb_directors\n",
       "0  113497   tt0113497            nm0002653\n",
       "1  112682   tt0112682  nm0001988,nm0000466\n",
       "2  114746   tt0114746            nm0000416\n",
       "3  114369   tt0114369            nm0000399\n",
       "4  114814   tt0114814            nm0001741"
      ]
     },
     "execution_count": 7,
     "metadata": {},
     "output_type": "execute_result"
    }
   ],
   "source": [
    "# Sélection des colonnes nécessaires seulement (base de données avec des doublons pour les userids et leurs ratings)\n",
    "MovieLens_Imdb = MovieLens_Imdb[['imdbId', 'imdb_tconst', 'imdb_directors']]\n",
    "MovieLens_Imdb.head()"
   ]
  },
  {
   "cell_type": "code",
   "execution_count": 9,
   "id": "68cb289d-91c6-4290-8946-cf84b612aebd",
   "metadata": {},
   "outputs": [
    {
     "name": "stdout",
     "output_type": "stream",
     "text": [
      "<class 'pandas.core.frame.DataFrame'>\n",
      "RangeIndex: 20000263 entries, 0 to 20000262\n",
      "Data columns (total 3 columns):\n",
      " #   Column          Dtype \n",
      "---  ------          ----- \n",
      " 0   imdbId          int64 \n",
      " 1   imdb_tconst     string\n",
      " 2   imdb_directors  string\n",
      "dtypes: int64(1), string(2)\n",
      "memory usage: 457.8 MB\n"
     ]
    }
   ],
   "source": [
    "MovieLens_Imdb.info()"
   ]
  },
  {
   "cell_type": "code",
   "execution_count": 11,
   "id": "1e411f69-3fe5-4a0c-9ce5-4300714b94bc",
   "metadata": {},
   "outputs": [
    {
     "name": "stdout",
     "output_type": "stream",
     "text": [
      "<class 'pandas.core.frame.DataFrame'>\n",
      "Index: 26744 entries, 0 to 19989075\n",
      "Data columns (total 3 columns):\n",
      " #   Column          Non-Null Count  Dtype \n",
      "---  ------          --------------  ----- \n",
      " 0   imdbId          26744 non-null  int64 \n",
      " 1   imdb_tconst     26694 non-null  string\n",
      " 2   imdb_directors  26664 non-null  string\n",
      "dtypes: int64(1), string(2)\n",
      "memory usage: 835.8 KB\n"
     ]
    }
   ],
   "source": [
    "# Afin de travailler avec seulement les lignes nécessaires \n",
    "# Supprime les lignes en double dans toutes les colonnes\n",
    "MovieLens_Imdb = MovieLens_Imdb.drop_duplicates()\n",
    "MovieLens_Imdb.info()"
   ]
  },
  {
   "cell_type": "code",
   "execution_count": null,
   "id": "63eb7617-bd78-4e04-a2aa-6e5b13f0de29",
   "metadata": {},
   "outputs": [],
   "source": []
  },
  {
   "cell_type": "code",
   "execution_count": 13,
   "id": "3632608c-4787-447f-9a80-47dc85e35e23",
   "metadata": {},
   "outputs": [
    {
     "name": "stdout",
     "output_type": "stream",
     "text": [
      "<class 'pandas.core.frame.DataFrame'>\n",
      "Index: 30307 entries, 0 to 19989075\n",
      "Data columns (total 3 columns):\n",
      " #   Column          Non-Null Count  Dtype \n",
      "---  ------          --------------  ----- \n",
      " 0   imdbId          30307 non-null  int64 \n",
      " 1   imdb_tconst     30257 non-null  string\n",
      " 2   imdb_directors  30227 non-null  object\n",
      "dtypes: int64(1), object(1), string(1)\n",
      "memory usage: 947.1+ KB\n"
     ]
    }
   ],
   "source": [
    "### 1. Extend la colonne 'directors' \n",
    "MovieLens_Imdb = MovieLens_Imdb.assign(imdb_directors=MovieLens_Imdb['imdb_directors'].str.split(',')).explode('imdb_directors')\n",
    "MovieLens_Imdb.info()"
   ]
  },
  {
   "cell_type": "code",
   "execution_count": 15,
   "id": "f8c3542e-32b4-4d05-89a4-901f61f6af9f",
   "metadata": {},
   "outputs": [],
   "source": [
    "### Nettoyage de la colonne 'directors' en prenant en compte les valeurs manquantes\n",
    "# Supprimer les espaces autour des valeurs non manquantes de 'directors'\n",
    "MovieLens_Imdb['imdb_directors'] = MovieLens_Imdb['imdb_directors'].apply(lambda x: x.strip() if isinstance(x, str) else x)\n",
    "\n",
    "# Supprimer tous les caractères invisibles et espaces pour les valeurs non manquantes\n",
    "MovieLens_Imdb['imdb_directors'] = MovieLens_Imdb['imdb_directors'].apply(lambda x: re.sub(r'\\s+', '', x) if isinstance(x, str) else x)\n",
    "\n",
    "# Convertir explicitement en type string en s'assurant qu'il n'y a pas de NaN dans 'director_code'\n",
    "MovieLens_Imdb['imdb_directors'] = MovieLens_Imdb['imdb_directors'].astype(str, errors='ignore')"
   ]
  },
  {
   "cell_type": "code",
   "execution_count": 17,
   "id": "2764fd5a-c088-476b-b266-a86f135833ed",
   "metadata": {},
   "outputs": [
    {
     "data": {
      "text/html": [
       "<div>\n",
       "<style scoped>\n",
       "    .dataframe tbody tr th:only-of-type {\n",
       "        vertical-align: middle;\n",
       "    }\n",
       "\n",
       "    .dataframe tbody tr th {\n",
       "        vertical-align: top;\n",
       "    }\n",
       "\n",
       "    .dataframe thead th {\n",
       "        text-align: right;\n",
       "    }\n",
       "</style>\n",
       "<table border=\"1\" class=\"dataframe\">\n",
       "  <thead>\n",
       "    <tr style=\"text-align: right;\">\n",
       "      <th></th>\n",
       "      <th>imdbId</th>\n",
       "      <th>imdb_tconst</th>\n",
       "      <th>imdb_directors</th>\n",
       "    </tr>\n",
       "  </thead>\n",
       "  <tbody>\n",
       "    <tr>\n",
       "      <th>0</th>\n",
       "      <td>113497</td>\n",
       "      <td>tt0113497</td>\n",
       "      <td>nm0002653</td>\n",
       "    </tr>\n",
       "    <tr>\n",
       "      <th>1</th>\n",
       "      <td>112682</td>\n",
       "      <td>tt0112682</td>\n",
       "      <td>nm0001988</td>\n",
       "    </tr>\n",
       "    <tr>\n",
       "      <th>1</th>\n",
       "      <td>112682</td>\n",
       "      <td>tt0112682</td>\n",
       "      <td>nm0000466</td>\n",
       "    </tr>\n",
       "    <tr>\n",
       "      <th>2</th>\n",
       "      <td>114746</td>\n",
       "      <td>tt0114746</td>\n",
       "      <td>nm0000416</td>\n",
       "    </tr>\n",
       "    <tr>\n",
       "      <th>3</th>\n",
       "      <td>114369</td>\n",
       "      <td>tt0114369</td>\n",
       "      <td>nm0000399</td>\n",
       "    </tr>\n",
       "  </tbody>\n",
       "</table>\n",
       "</div>"
      ],
      "text/plain": [
       "   imdbId imdb_tconst imdb_directors\n",
       "0  113497   tt0113497      nm0002653\n",
       "1  112682   tt0112682      nm0001988\n",
       "1  112682   tt0112682      nm0000466\n",
       "2  114746   tt0114746      nm0000416\n",
       "3  114369   tt0114369      nm0000399"
      ]
     },
     "execution_count": 17,
     "metadata": {},
     "output_type": "execute_result"
    }
   ],
   "source": [
    "MovieLens_Imdb.head()"
   ]
  },
  {
   "cell_type": "code",
   "execution_count": null,
   "id": "15802919-ed23-4465-9c0e-f6fcdc5e0a26",
   "metadata": {},
   "outputs": [],
   "source": []
  },
  {
   "cell_type": "code",
   "execution_count": 19,
   "id": "9e4676ea-b649-4411-ab8e-fc3bb80c849a",
   "metadata": {},
   "outputs": [],
   "source": [
    "### 2. Lire et fusionner directement imdb1 et name_basics\n",
    "MovieLens_Imdb = MovieLens_Imdb.merge(\n",
    "    pd.read_feather(name_basics_path, columns=['nconst', 'primaryName', 'knownForTitles']),\n",
    "    how='left',\n",
    "    left_on='imdb_directors',\n",
    "    right_on='nconst'\n",
    ")"
   ]
  },
  {
   "cell_type": "code",
   "execution_count": 35,
   "id": "4d9ab6c5-b345-4487-9dcb-96cf0ca98de6",
   "metadata": {},
   "outputs": [
    {
     "data": {
      "text/html": [
       "<div>\n",
       "<style scoped>\n",
       "    .dataframe tbody tr th:only-of-type {\n",
       "        vertical-align: middle;\n",
       "    }\n",
       "\n",
       "    .dataframe tbody tr th {\n",
       "        vertical-align: top;\n",
       "    }\n",
       "\n",
       "    .dataframe thead th {\n",
       "        text-align: right;\n",
       "    }\n",
       "</style>\n",
       "<table border=\"1\" class=\"dataframe\">\n",
       "  <thead>\n",
       "    <tr style=\"text-align: right;\">\n",
       "      <th></th>\n",
       "      <th>imdbId</th>\n",
       "      <th>imdb_tconst</th>\n",
       "      <th>imdb_directors</th>\n",
       "      <th>nconst</th>\n",
       "      <th>primaryName</th>\n",
       "      <th>knownForTitles</th>\n",
       "    </tr>\n",
       "  </thead>\n",
       "  <tbody>\n",
       "    <tr>\n",
       "      <th>0</th>\n",
       "      <td>113497</td>\n",
       "      <td>tt0113497</td>\n",
       "      <td>nm0002653</td>\n",
       "      <td>nm0002653</td>\n",
       "      <td>Joe Johnston</td>\n",
       "      <td>tt0458339,tt0102803,tt0082971,tt0132477</td>\n",
       "    </tr>\n",
       "    <tr>\n",
       "      <th>1</th>\n",
       "      <td>112682</td>\n",
       "      <td>tt0112682</td>\n",
       "      <td>nm0001988</td>\n",
       "      <td>nm0001988</td>\n",
       "      <td>Marc Caro</td>\n",
       "      <td>tt0101700,tt0112682,tt0118583,tt0487928</td>\n",
       "    </tr>\n",
       "    <tr>\n",
       "      <th>2</th>\n",
       "      <td>112682</td>\n",
       "      <td>tt0112682</td>\n",
       "      <td>nm0000466</td>\n",
       "      <td>nm0000466</td>\n",
       "      <td>Jean-Pierre Jeunet</td>\n",
       "      <td>tt0344510,tt0211915,tt0101700,tt0112682</td>\n",
       "    </tr>\n",
       "    <tr>\n",
       "      <th>3</th>\n",
       "      <td>114746</td>\n",
       "      <td>tt0114746</td>\n",
       "      <td>nm0000416</td>\n",
       "      <td>nm0000416</td>\n",
       "      <td>Terry Gilliam</td>\n",
       "      <td>tt0088846,tt0071853,tt1054606,tt0081633</td>\n",
       "    </tr>\n",
       "    <tr>\n",
       "      <th>4</th>\n",
       "      <td>114369</td>\n",
       "      <td>tt0114369</td>\n",
       "      <td>nm0000399</td>\n",
       "      <td>nm0000399</td>\n",
       "      <td>David Fincher</td>\n",
       "      <td>tt0114369,tt0443706,tt2267998,tt1285016</td>\n",
       "    </tr>\n",
       "  </tbody>\n",
       "</table>\n",
       "</div>"
      ],
      "text/plain": [
       "   imdbId imdb_tconst imdb_directors     nconst         primaryName  \\\n",
       "0  113497   tt0113497      nm0002653  nm0002653        Joe Johnston   \n",
       "1  112682   tt0112682      nm0001988  nm0001988           Marc Caro   \n",
       "2  112682   tt0112682      nm0000466  nm0000466  Jean-Pierre Jeunet   \n",
       "3  114746   tt0114746      nm0000416  nm0000416       Terry Gilliam   \n",
       "4  114369   tt0114369      nm0000399  nm0000399       David Fincher   \n",
       "\n",
       "                            knownForTitles  \n",
       "0  tt0458339,tt0102803,tt0082971,tt0132477  \n",
       "1  tt0101700,tt0112682,tt0118583,tt0487928  \n",
       "2  tt0344510,tt0211915,tt0101700,tt0112682  \n",
       "3  tt0088846,tt0071853,tt1054606,tt0081633  \n",
       "4  tt0114369,tt0443706,tt2267998,tt1285016  "
      ]
     },
     "execution_count": 35,
     "metadata": {},
     "output_type": "execute_result"
    }
   ],
   "source": [
    "MovieLens_Imdb.head()"
   ]
  },
  {
   "cell_type": "code",
   "execution_count": 21,
   "id": "ca22dae2-7eac-4a69-9658-16a4ab8000f5",
   "metadata": {},
   "outputs": [
    {
     "data": {
      "text/html": [
       "<div>\n",
       "<style scoped>\n",
       "    .dataframe tbody tr th:only-of-type {\n",
       "        vertical-align: middle;\n",
       "    }\n",
       "\n",
       "    .dataframe tbody tr th {\n",
       "        vertical-align: top;\n",
       "    }\n",
       "\n",
       "    .dataframe thead th {\n",
       "        text-align: right;\n",
       "    }\n",
       "</style>\n",
       "<table border=\"1\" class=\"dataframe\">\n",
       "  <thead>\n",
       "    <tr style=\"text-align: right;\">\n",
       "      <th></th>\n",
       "      <th>imdbId</th>\n",
       "      <th>imdb_tconst</th>\n",
       "      <th>imdb_directors</th>\n",
       "      <th>directors_primaryName</th>\n",
       "      <th>directors_knownForTitles</th>\n",
       "    </tr>\n",
       "  </thead>\n",
       "  <tbody>\n",
       "    <tr>\n",
       "      <th>0</th>\n",
       "      <td>113497</td>\n",
       "      <td>tt0113497</td>\n",
       "      <td>nm0002653</td>\n",
       "      <td>Joe Johnston</td>\n",
       "      <td>tt0458339,tt0102803,tt0082971,tt0132477</td>\n",
       "    </tr>\n",
       "    <tr>\n",
       "      <th>1</th>\n",
       "      <td>112682</td>\n",
       "      <td>tt0112682</td>\n",
       "      <td>nm0001988</td>\n",
       "      <td>Marc Caro</td>\n",
       "      <td>tt0101700,tt0112682,tt0118583,tt0487928</td>\n",
       "    </tr>\n",
       "    <tr>\n",
       "      <th>2</th>\n",
       "      <td>112682</td>\n",
       "      <td>tt0112682</td>\n",
       "      <td>nm0000466</td>\n",
       "      <td>Jean-Pierre Jeunet</td>\n",
       "      <td>tt0344510,tt0211915,tt0101700,tt0112682</td>\n",
       "    </tr>\n",
       "    <tr>\n",
       "      <th>3</th>\n",
       "      <td>114746</td>\n",
       "      <td>tt0114746</td>\n",
       "      <td>nm0000416</td>\n",
       "      <td>Terry Gilliam</td>\n",
       "      <td>tt0088846,tt0071853,tt1054606,tt0081633</td>\n",
       "    </tr>\n",
       "    <tr>\n",
       "      <th>4</th>\n",
       "      <td>114369</td>\n",
       "      <td>tt0114369</td>\n",
       "      <td>nm0000399</td>\n",
       "      <td>David Fincher</td>\n",
       "      <td>tt0114369,tt0443706,tt2267998,tt1285016</td>\n",
       "    </tr>\n",
       "  </tbody>\n",
       "</table>\n",
       "</div>"
      ],
      "text/plain": [
       "   imdbId imdb_tconst imdb_directors directors_primaryName  \\\n",
       "0  113497   tt0113497      nm0002653          Joe Johnston   \n",
       "1  112682   tt0112682      nm0001988             Marc Caro   \n",
       "2  112682   tt0112682      nm0000466    Jean-Pierre Jeunet   \n",
       "3  114746   tt0114746      nm0000416         Terry Gilliam   \n",
       "4  114369   tt0114369      nm0000399         David Fincher   \n",
       "\n",
       "                  directors_knownForTitles  \n",
       "0  tt0458339,tt0102803,tt0082971,tt0132477  \n",
       "1  tt0101700,tt0112682,tt0118583,tt0487928  \n",
       "2  tt0344510,tt0211915,tt0101700,tt0112682  \n",
       "3  tt0088846,tt0071853,tt1054606,tt0081633  \n",
       "4  tt0114369,tt0443706,tt2267998,tt1285016  "
      ]
     },
     "execution_count": 21,
     "metadata": {},
     "output_type": "execute_result"
    }
   ],
   "source": [
    "# Supprimer la colonne 'nconst' du résultat final\n",
    "MovieLens_Imdb = MovieLens_Imdb.drop(columns=['nconst'])\n",
    "\n",
    "# Renommer les colonnes 'primaryName' et 'knownForTitles' dans le DataFrame résultant\n",
    "MovieLens_Imdb = MovieLens_Imdb.rename(columns={\n",
    "    'primaryName': 'directors_primaryName',\n",
    "    'knownForTitles': 'directors_knownForTitles'\n",
    "})\n",
    "\n",
    "MovieLens_Imdb.head()"
   ]
  },
  {
   "cell_type": "code",
   "execution_count": null,
   "id": "07a57271-194c-4916-874c-3a2ea00fd917",
   "metadata": {},
   "outputs": [],
   "source": []
  },
  {
   "cell_type": "code",
   "execution_count": 23,
   "id": "34e0715b-c942-4c33-bb35-27362f9dc82c",
   "metadata": {},
   "outputs": [],
   "source": [
    "### 3. Regrouper les noms des directeurs par film\n",
    "\n",
    "# Fonction d'agrégation pour pandas\n",
    "def aggregate_partition(pdf):\n",
    "    return pdf.groupby('imdbId').agg({\n",
    "        'imdb_tconst': 'first',\n",
    "        'imdb_directors': lambda x: ','.join(x.dropna()),  # Joindre les valeurs non-nulles de 'directors'\n",
    "        'directors_primaryName': lambda x: ','.join(x.dropna()),  # Joindre les valeurs non-nulles de 'directors_primaryName'\n",
    "        'directors_knownForTitles': lambda x: ','.join(x.dropna()),  # Joindre les valeurs non-nulles de 'directors_knownForTitles'\n",
    "    })\n"
   ]
  },
  {
   "cell_type": "code",
   "execution_count": 25,
   "id": "635e0b49-cb76-4dfc-a9d2-cfb943041f1f",
   "metadata": {},
   "outputs": [],
   "source": [
    "# Application de la fonction d'agrégation \n",
    "MovieLens_Imdb_aggregated = aggregate_partition(MovieLens_Imdb)"
   ]
  },
  {
   "cell_type": "code",
   "execution_count": 27,
   "id": "764fd24d-732d-488d-b46c-b85162daff50",
   "metadata": {},
   "outputs": [
    {
     "name": "stdout",
     "output_type": "stream",
     "text": [
      "<class 'pandas.core.frame.DataFrame'>\n",
      "Index: 26744 entries, 5 to 4530184\n",
      "Data columns (total 4 columns):\n",
      " #   Column                    Non-Null Count  Dtype \n",
      "---  ------                    --------------  ----- \n",
      " 0   imdb_tconst               26694 non-null  string\n",
      " 1   imdb_directors            26744 non-null  object\n",
      " 2   directors_primaryName     26744 non-null  object\n",
      " 3   directors_knownForTitles  26744 non-null  object\n",
      "dtypes: object(3), string(1)\n",
      "memory usage: 1.0+ MB\n"
     ]
    }
   ],
   "source": [
    "MovieLens_Imdb_aggregated.info()"
   ]
  },
  {
   "cell_type": "code",
   "execution_count": 29,
   "id": "49baac90-cd70-4570-a4bc-432e0ff040ae",
   "metadata": {},
   "outputs": [
    {
     "name": "stdout",
     "output_type": "stream",
     "text": [
      "<class 'pandas.core.frame.DataFrame'>\n",
      "Index: 26744 entries, 5 to 4530184\n",
      "Data columns (total 4 columns):\n",
      " #   Column                    Non-Null Count  Dtype \n",
      "---  ------                    --------------  ----- \n",
      " 0   imdb_tconst               26694 non-null  string\n",
      " 1   imdb_directors            26664 non-null  object\n",
      " 2   directors_primaryName     26664 non-null  object\n",
      " 3   directors_knownForTitles  26664 non-null  object\n",
      "dtypes: object(3), string(1)\n",
      "memory usage: 1.0+ MB\n"
     ]
    }
   ],
   "source": [
    "# Afin d'identifier les vides des colonnes agregées\n",
    "# Remplacement des valeurs dans plusieurs colonnes\n",
    "MovieLens_Imdb_aggregated.replace({\n",
    "    'imdb_directors': {'<NA>': pd.NA},\n",
    "    'directors_primaryName': {'': pd.NA},\n",
    "    'directors_knownForTitles': {'': pd.NA}\n",
    "}, inplace=True)\n",
    "\n",
    "MovieLens_Imdb_aggregated.info()"
   ]
  },
  {
   "cell_type": "code",
   "execution_count": null,
   "id": "6425100a-f99c-40f2-9bd5-4671d5d411ec",
   "metadata": {},
   "outputs": [],
   "source": [
    "# Vérif des valeurs manquantes\n",
    "MovieLens_Imdb_aggregated[MovieLens_Imdb_aggregated['imdb_tconst'].isnull()]"
   ]
  },
  {
   "cell_type": "code",
   "execution_count": 31,
   "id": "ce4d6ead-33bb-437a-be66-88d6669533d3",
   "metadata": {},
   "outputs": [],
   "source": [
    "# Appliquer reset_index() pour remettre `imdbId` comme colonne normale au lieu d'index\n",
    "MovieLens_Imdb_aggregated = MovieLens_Imdb_aggregated.reset_index()"
   ]
  },
  {
   "cell_type": "code",
   "execution_count": 33,
   "id": "df5e59c4-0756-4d34-89b8-b9a721180d0e",
   "metadata": {},
   "outputs": [
    {
     "name": "stdout",
     "output_type": "stream",
     "text": [
      "<class 'pandas.core.frame.DataFrame'>\n",
      "RangeIndex: 26744 entries, 0 to 26743\n",
      "Data columns (total 5 columns):\n",
      " #   Column                    Non-Null Count  Dtype \n",
      "---  ------                    --------------  ----- \n",
      " 0   imdbId                    26744 non-null  int64 \n",
      " 1   imdb_tconst               26694 non-null  string\n",
      " 2   imdb_directors            26664 non-null  object\n",
      " 3   directors_primaryName     26664 non-null  object\n",
      " 4   directors_knownForTitles  26664 non-null  object\n",
      "dtypes: int64(1), object(3), string(1)\n",
      "memory usage: 1.0+ MB\n"
     ]
    }
   ],
   "source": [
    "MovieLens_Imdb_aggregated.info()"
   ]
  },
  {
   "cell_type": "code",
   "execution_count": 75,
   "id": "8101b4ca-46f1-441d-8db5-bb4d38e0a39a",
   "metadata": {},
   "outputs": [
    {
     "data": {
      "text/html": [
       "<div>\n",
       "<style scoped>\n",
       "    .dataframe tbody tr th:only-of-type {\n",
       "        vertical-align: middle;\n",
       "    }\n",
       "\n",
       "    .dataframe tbody tr th {\n",
       "        vertical-align: top;\n",
       "    }\n",
       "\n",
       "    .dataframe thead th {\n",
       "        text-align: right;\n",
       "    }\n",
       "</style>\n",
       "<table border=\"1\" class=\"dataframe\">\n",
       "  <thead>\n",
       "    <tr style=\"text-align: right;\">\n",
       "      <th></th>\n",
       "      <th>imdbId</th>\n",
       "      <th>imdb_tconst</th>\n",
       "      <th>imdb_directors</th>\n",
       "      <th>directors_primaryName</th>\n",
       "      <th>directors_knownForTitles</th>\n",
       "    </tr>\n",
       "  </thead>\n",
       "  <tbody>\n",
       "    <tr>\n",
       "      <th>0</th>\n",
       "      <td>5</td>\n",
       "      <td>tt0000005</td>\n",
       "      <td>nm0005690</td>\n",
       "      <td>William K.L. Dickson</td>\n",
       "      <td>tt1428455,tt1496763,tt0308254,tt0219560</td>\n",
       "    </tr>\n",
       "    <tr>\n",
       "      <th>1</th>\n",
       "      <td>8</td>\n",
       "      <td>tt0000008</td>\n",
       "      <td>nm0005690</td>\n",
       "      <td>William K.L. Dickson</td>\n",
       "      <td>tt1428455,tt1496763,tt0308254,tt0219560</td>\n",
       "    </tr>\n",
       "    <tr>\n",
       "      <th>2</th>\n",
       "      <td>10</td>\n",
       "      <td>tt0000010</td>\n",
       "      <td>nm0525910</td>\n",
       "      <td>Louis Lumière</td>\n",
       "      <td>tt6231346,tt1167665,tt0000014,tt2461054</td>\n",
       "    </tr>\n",
       "    <tr>\n",
       "      <th>3</th>\n",
       "      <td>12</td>\n",
       "      <td>tt0000012</td>\n",
       "      <td>nm0525908, nm0525910</td>\n",
       "      <td>Auguste Lumière, Louis Lumière</td>\n",
       "      <td>tt8485720,tt1982760,tt32220357,tt0000012, tt62...</td>\n",
       "    </tr>\n",
       "    <tr>\n",
       "      <th>4</th>\n",
       "      <td>14</td>\n",
       "      <td>tt0000014</td>\n",
       "      <td>nm0525910</td>\n",
       "      <td>Louis Lumière</td>\n",
       "      <td>tt6231346,tt1167665,tt0000014,tt2461054</td>\n",
       "    </tr>\n",
       "  </tbody>\n",
       "</table>\n",
       "</div>"
      ],
      "text/plain": [
       "   imdbId imdb_tconst        imdb_directors           directors_primaryName  \\\n",
       "0       5   tt0000005             nm0005690            William K.L. Dickson   \n",
       "1       8   tt0000008             nm0005690            William K.L. Dickson   \n",
       "2      10   tt0000010             nm0525910                   Louis Lumière   \n",
       "3      12   tt0000012  nm0525908, nm0525910  Auguste Lumière, Louis Lumière   \n",
       "4      14   tt0000014             nm0525910                   Louis Lumière   \n",
       "\n",
       "                            directors_knownForTitles  \n",
       "0            tt1428455,tt1496763,tt0308254,tt0219560  \n",
       "1            tt1428455,tt1496763,tt0308254,tt0219560  \n",
       "2            tt6231346,tt1167665,tt0000014,tt2461054  \n",
       "3  tt8485720,tt1982760,tt32220357,tt0000012, tt62...  \n",
       "4            tt6231346,tt1167665,tt0000014,tt2461054  "
      ]
     },
     "execution_count": 75,
     "metadata": {},
     "output_type": "execute_result"
    }
   ],
   "source": [
    "MovieLens_Imdb_aggregated.head()"
   ]
  },
  {
   "cell_type": "code",
   "execution_count": null,
   "id": "fe0fd8fa-b3c0-48a5-88d4-4519fe430895",
   "metadata": {},
   "outputs": [],
   "source": []
  },
  {
   "cell_type": "code",
   "execution_count": null,
   "id": "5c4ec05d-7969-4cc9-8cab-44424018e0aa",
   "metadata": {},
   "outputs": [],
   "source": [
    "######### Part II. Recherche des noms de knownForTitles"
   ]
  },
  {
   "cell_type": "code",
   "execution_count": 35,
   "id": "b2bf6f30-e5f5-4d9e-97c1-1ae7dd5bf034",
   "metadata": {},
   "outputs": [
    {
     "name": "stdout",
     "output_type": "stream",
     "text": [
      "<class 'pandas.core.frame.DataFrame'>\n",
      "Index: 119688 entries, 0 to 26743\n",
      "Data columns (total 5 columns):\n",
      " #   Column                    Non-Null Count   Dtype \n",
      "---  ------                    --------------   ----- \n",
      " 0   imdbId                    119688 non-null  int64 \n",
      " 1   imdb_tconst               119638 non-null  string\n",
      " 2   imdb_directors            119608 non-null  object\n",
      " 3   directors_primaryName     119608 non-null  object\n",
      " 4   directors_knownForTitles  119608 non-null  object\n",
      "dtypes: int64(1), object(3), string(1)\n",
      "memory usage: 5.5+ MB\n"
     ]
    }
   ],
   "source": [
    "### 1. Extend la colonne 'directors_knownForTitles' \n",
    "MovieLens_Imdb_aggtd2 = MovieLens_Imdb_aggregated.assign(directors_knownForTitles=MovieLens_Imdb_aggregated['directors_knownForTitles'].str.split(',')).explode('directors_knownForTitles')\n",
    "MovieLens_Imdb_aggtd2.info()"
   ]
  },
  {
   "cell_type": "code",
   "execution_count": 37,
   "id": "23335633-5b81-4ad4-bc05-f65a1be85aa7",
   "metadata": {},
   "outputs": [],
   "source": [
    "### Nettoyage de la colonne 'directors_knownForTitles' en prenant en compte les valeurs manquantes\n",
    "# Supprimer les espaces autour des valeurs non manquantes de 'directors'\n",
    "MovieLens_Imdb_aggtd2['directors_knownForTitles'] = MovieLens_Imdb_aggtd2['directors_knownForTitles'].apply(lambda x: x.strip() if isinstance(x, str) else x)\n",
    "\n",
    "# Supprimer tous les caractères invisibles et espaces pour les valeurs non manquantes\n",
    "MovieLens_Imdb_aggtd2['directors_knownForTitles'] = MovieLens_Imdb_aggtd2['directors_knownForTitles'].apply(lambda x: re.sub(r'\\s+', '', x) if isinstance(x, str) else x)\n",
    "\n",
    "# Convertir explicitement en type string en s'assurant qu'il n'y a pas de NaN dans 'director_code'\n",
    "MovieLens_Imdb_aggtd2['directors_knownForTitles'] = MovieLens_Imdb_aggtd2['directors_knownForTitles'].astype(str, errors='ignore')\n"
   ]
  },
  {
   "cell_type": "code",
   "execution_count": 39,
   "id": "adc1ac8b-0a24-433e-8e4c-4e182ba6c896",
   "metadata": {},
   "outputs": [
    {
     "name": "stdout",
     "output_type": "stream",
     "text": [
      "Y a-t-il des doublons dans le DataFrame ?  True\n"
     ]
    }
   ],
   "source": [
    "# Vérification des doublons \n",
    "doublons = MovieLens_Imdb_aggtd2.duplicated().any()\n",
    "print(\"Y a-t-il des doublons dans le DataFrame ? \", doublons)"
   ]
  },
  {
   "cell_type": "code",
   "execution_count": 125,
   "id": "c5f0c33e-69a7-4e77-b64f-a9f6bfa3e8cf",
   "metadata": {},
   "outputs": [
    {
     "data": {
      "text/html": [
       "<div>\n",
       "<style scoped>\n",
       "    .dataframe tbody tr th:only-of-type {\n",
       "        vertical-align: middle;\n",
       "    }\n",
       "\n",
       "    .dataframe tbody tr th {\n",
       "        vertical-align: top;\n",
       "    }\n",
       "\n",
       "    .dataframe thead th {\n",
       "        text-align: right;\n",
       "    }\n",
       "</style>\n",
       "<table border=\"1\" class=\"dataframe\">\n",
       "  <thead>\n",
       "    <tr style=\"text-align: right;\">\n",
       "      <th></th>\n",
       "      <th>imdbId</th>\n",
       "      <th>imdb_tconst</th>\n",
       "      <th>imdb_directors</th>\n",
       "      <th>directors_primaryName</th>\n",
       "      <th>directors_knownForTitles</th>\n",
       "    </tr>\n",
       "  </thead>\n",
       "  <tbody>\n",
       "    <tr>\n",
       "      <th>15</th>\n",
       "      <td>2461</td>\n",
       "      <td>tt0002461</td>\n",
       "      <td>nm0130633, nm0443857</td>\n",
       "      <td>André Calmettes, James Keane</td>\n",
       "      <td>tt0002461</td>\n",
       "    </tr>\n",
       "    <tr>\n",
       "      <th>15</th>\n",
       "      <td>2461</td>\n",
       "      <td>tt0002461</td>\n",
       "      <td>nm0130633, nm0443857</td>\n",
       "      <td>André Calmettes, James Keane</td>\n",
       "      <td>tt0002461</td>\n",
       "    </tr>\n",
       "    <tr>\n",
       "      <th>19</th>\n",
       "      <td>3419</td>\n",
       "      <td>tt0003419</td>\n",
       "      <td>nm0263912, nm0753233</td>\n",
       "      <td>Hanns Heinz Ewers, Stellan Rye</td>\n",
       "      <td>tt0003419</td>\n",
       "    </tr>\n",
       "    <tr>\n",
       "      <th>19</th>\n",
       "      <td>3419</td>\n",
       "      <td>tt0003419</td>\n",
       "      <td>nm0263912, nm0753233</td>\n",
       "      <td>Hanns Heinz Ewers, Stellan Rye</td>\n",
       "      <td>tt0003419</td>\n",
       "    </tr>\n",
       "    <tr>\n",
       "      <th>20</th>\n",
       "      <td>3489</td>\n",
       "      <td>tt0003489</td>\n",
       "      <td>nm0143333, nm0734958</td>\n",
       "      <td>Mario Caserini, Eleuterio Rodolfi</td>\n",
       "      <td>tt0003489</td>\n",
       "    </tr>\n",
       "    <tr>\n",
       "      <th>...</th>\n",
       "      <td>...</td>\n",
       "      <td>...</td>\n",
       "      <td>...</td>\n",
       "      <td>...</td>\n",
       "      <td>...</td>\n",
       "    </tr>\n",
       "    <tr>\n",
       "      <th>26708</th>\n",
       "      <td>4006794</td>\n",
       "      <td>tt4006794</td>\n",
       "      <td>nm0105001, nm0148999</td>\n",
       "      <td>Spike Brandt, Tony Cervone</td>\n",
       "      <td>tt1660055</td>\n",
       "    </tr>\n",
       "    <tr>\n",
       "      <th>26709</th>\n",
       "      <td>4007502</td>\n",
       "      <td>tt4007502</td>\n",
       "      <td>nm0118333, nm1601644</td>\n",
       "      <td>Chris Buck, Jennifer Lee</td>\n",
       "      <td>tt2294629</td>\n",
       "    </tr>\n",
       "    <tr>\n",
       "      <th>26709</th>\n",
       "      <td>4007502</td>\n",
       "      <td>tt4007502</td>\n",
       "      <td>nm0118333, nm1601644</td>\n",
       "      <td>Chris Buck, Jennifer Lee</td>\n",
       "      <td>tt4520988</td>\n",
       "    </tr>\n",
       "    <tr>\n",
       "      <th>26709</th>\n",
       "      <td>4007502</td>\n",
       "      <td>tt4007502</td>\n",
       "      <td>nm0118333, nm1601644</td>\n",
       "      <td>Chris Buck, Jennifer Lee</td>\n",
       "      <td>tt2294629</td>\n",
       "    </tr>\n",
       "    <tr>\n",
       "      <th>26709</th>\n",
       "      <td>4007502</td>\n",
       "      <td>tt4007502</td>\n",
       "      <td>nm0118333, nm1601644</td>\n",
       "      <td>Chris Buck, Jennifer Lee</td>\n",
       "      <td>tt4520988</td>\n",
       "    </tr>\n",
       "  </tbody>\n",
       "</table>\n",
       "<p>6294 rows × 5 columns</p>\n",
       "</div>"
      ],
      "text/plain": [
       "        imdbId imdb_tconst        imdb_directors  \\\n",
       "15        2461   tt0002461  nm0130633, nm0443857   \n",
       "15        2461   tt0002461  nm0130633, nm0443857   \n",
       "19        3419   tt0003419  nm0263912, nm0753233   \n",
       "19        3419   tt0003419  nm0263912, nm0753233   \n",
       "20        3489   tt0003489  nm0143333, nm0734958   \n",
       "...        ...         ...                   ...   \n",
       "26708  4006794   tt4006794  nm0105001, nm0148999   \n",
       "26709  4007502   tt4007502  nm0118333, nm1601644   \n",
       "26709  4007502   tt4007502  nm0118333, nm1601644   \n",
       "26709  4007502   tt4007502  nm0118333, nm1601644   \n",
       "26709  4007502   tt4007502  nm0118333, nm1601644   \n",
       "\n",
       "                   directors_primaryName directors_knownForTitles  \n",
       "15          André Calmettes, James Keane                tt0002461  \n",
       "15          André Calmettes, James Keane                tt0002461  \n",
       "19        Hanns Heinz Ewers, Stellan Rye                tt0003419  \n",
       "19        Hanns Heinz Ewers, Stellan Rye                tt0003419  \n",
       "20     Mario Caserini, Eleuterio Rodolfi                tt0003489  \n",
       "...                                  ...                      ...  \n",
       "26708         Spike Brandt, Tony Cervone                tt1660055  \n",
       "26709           Chris Buck, Jennifer Lee                tt2294629  \n",
       "26709           Chris Buck, Jennifer Lee                tt4520988  \n",
       "26709           Chris Buck, Jennifer Lee                tt2294629  \n",
       "26709           Chris Buck, Jennifer Lee                tt4520988  \n",
       "\n",
       "[6294 rows x 5 columns]"
      ]
     },
     "execution_count": 125,
     "metadata": {},
     "output_type": "execute_result"
    }
   ],
   "source": [
    "MovieLens_Imdb_aggtd2[MovieLens_Imdb_aggtd2.duplicated(keep=False)]"
   ]
  },
  {
   "cell_type": "code",
   "execution_count": 127,
   "id": "09ae98a7-495e-406d-b2f9-161212d300bb",
   "metadata": {},
   "outputs": [
    {
     "data": {
      "text/html": [
       "<div>\n",
       "<style scoped>\n",
       "    .dataframe tbody tr th:only-of-type {\n",
       "        vertical-align: middle;\n",
       "    }\n",
       "\n",
       "    .dataframe tbody tr th {\n",
       "        vertical-align: top;\n",
       "    }\n",
       "\n",
       "    .dataframe thead th {\n",
       "        text-align: right;\n",
       "    }\n",
       "</style>\n",
       "<table border=\"1\" class=\"dataframe\">\n",
       "  <thead>\n",
       "    <tr style=\"text-align: right;\">\n",
       "      <th></th>\n",
       "      <th>imdbId</th>\n",
       "      <th>imdb_tconst</th>\n",
       "      <th>imdb_directors</th>\n",
       "      <th>directors_primaryName</th>\n",
       "      <th>directors_knownForTitles</th>\n",
       "    </tr>\n",
       "  </thead>\n",
       "  <tbody>\n",
       "    <tr>\n",
       "      <th>15</th>\n",
       "      <td>2461</td>\n",
       "      <td>tt0002461</td>\n",
       "      <td>nm0130633, nm0443857</td>\n",
       "      <td>André Calmettes, James Keane</td>\n",
       "      <td>tt0001175,tt3096726,tt0237838,tt0002461, tt000...</td>\n",
       "    </tr>\n",
       "  </tbody>\n",
       "</table>\n",
       "</div>"
      ],
      "text/plain": [
       "    imdbId imdb_tconst        imdb_directors         directors_primaryName  \\\n",
       "15    2461   tt0002461  nm0130633, nm0443857  André Calmettes, James Keane   \n",
       "\n",
       "                             directors_knownForTitles  \n",
       "15  tt0001175,tt3096726,tt0237838,tt0002461, tt000...  "
      ]
     },
     "execution_count": 127,
     "metadata": {},
     "output_type": "execute_result"
    }
   ],
   "source": [
    "MovieLens_Imdb_aggregated[MovieLens_Imdb_aggregated['imdbId']==2461]"
   ]
  },
  {
   "cell_type": "code",
   "execution_count": 129,
   "id": "e6009537-64bc-4f5d-97b1-8ca891c69469",
   "metadata": {},
   "outputs": [
    {
     "name": "stdout",
     "output_type": "stream",
     "text": [
      "15    tt0001175,tt3096726,tt0237838,tt0002461, tt0002461,tt0005763,tt0179517,tt0190031\n",
      "Name: directors_knownForTitles, dtype: object\n"
     ]
    }
   ],
   "source": [
    "# Visualisation des données\n",
    "\n",
    "# Ajuster l'option pour afficher tout le contenu des cellules\n",
    "pd.set_option('display.max_colwidth', None)\n",
    "\n",
    "# Filtrer pour trouver la ligne avec imdbId égal à 2461 et afficher uniquement la colonne `directors_knownForTitles`\n",
    "resultat = MovieLens_Imdb_aggregated.loc[MovieLens_Imdb_aggregated['imdbId'] == 2461, 'directors_knownForTitles']\n",
    "\n",
    "# Afficher le contenu de la cellule\n",
    "print(resultat)\n",
    "\n",
    "# Rétablir la configuration par défaut\n",
    "pd.reset_option('display.max_colwidth')\n",
    "\n",
    "# Commentaire : \n",
    "# Il peut avoir des directors connus par le même film\n",
    "# Il faut éliminer les doublons"
   ]
  },
  {
   "cell_type": "code",
   "execution_count": 41,
   "id": "b84d96d5-2d40-4f83-bf01-5bfcba818964",
   "metadata": {},
   "outputs": [
    {
     "name": "stdout",
     "output_type": "stream",
     "text": [
      "<class 'pandas.core.frame.DataFrame'>\n",
      "Index: 116273 entries, 0 to 26743\n",
      "Data columns (total 5 columns):\n",
      " #   Column                    Non-Null Count   Dtype \n",
      "---  ------                    --------------   ----- \n",
      " 0   imdbId                    116273 non-null  int64 \n",
      " 1   imdb_tconst               116223 non-null  string\n",
      " 2   imdb_directors            116193 non-null  object\n",
      " 3   directors_primaryName     116193 non-null  object\n",
      " 4   directors_knownForTitles  116273 non-null  object\n",
      "dtypes: int64(1), object(3), string(1)\n",
      "memory usage: 5.3+ MB\n"
     ]
    }
   ],
   "source": [
    "# Supprime les lignes en double dans toutes les colonnes\n",
    "MovieLens_Imdb_aggtd2 = MovieLens_Imdb_aggtd2.drop_duplicates()\n",
    "MovieLens_Imdb_aggtd2.info()"
   ]
  },
  {
   "cell_type": "code",
   "execution_count": 133,
   "id": "ca94ba7d-7acf-487e-a2b7-16a9d59b0256",
   "metadata": {},
   "outputs": [
    {
     "data": {
      "text/html": [
       "<div>\n",
       "<style scoped>\n",
       "    .dataframe tbody tr th:only-of-type {\n",
       "        vertical-align: middle;\n",
       "    }\n",
       "\n",
       "    .dataframe tbody tr th {\n",
       "        vertical-align: top;\n",
       "    }\n",
       "\n",
       "    .dataframe thead th {\n",
       "        text-align: right;\n",
       "    }\n",
       "</style>\n",
       "<table border=\"1\" class=\"dataframe\">\n",
       "  <thead>\n",
       "    <tr style=\"text-align: right;\">\n",
       "      <th></th>\n",
       "      <th>imdbId</th>\n",
       "      <th>imdb_tconst</th>\n",
       "      <th>imdb_directors</th>\n",
       "      <th>directors_primaryName</th>\n",
       "      <th>directors_knownForTitles</th>\n",
       "    </tr>\n",
       "  </thead>\n",
       "  <tbody>\n",
       "    <tr>\n",
       "      <th>0</th>\n",
       "      <td>5</td>\n",
       "      <td>tt0000005</td>\n",
       "      <td>nm0005690</td>\n",
       "      <td>William K.L. Dickson</td>\n",
       "      <td>tt1428455</td>\n",
       "    </tr>\n",
       "    <tr>\n",
       "      <th>0</th>\n",
       "      <td>5</td>\n",
       "      <td>tt0000005</td>\n",
       "      <td>nm0005690</td>\n",
       "      <td>William K.L. Dickson</td>\n",
       "      <td>tt1496763</td>\n",
       "    </tr>\n",
       "    <tr>\n",
       "      <th>0</th>\n",
       "      <td>5</td>\n",
       "      <td>tt0000005</td>\n",
       "      <td>nm0005690</td>\n",
       "      <td>William K.L. Dickson</td>\n",
       "      <td>tt0308254</td>\n",
       "    </tr>\n",
       "    <tr>\n",
       "      <th>0</th>\n",
       "      <td>5</td>\n",
       "      <td>tt0000005</td>\n",
       "      <td>nm0005690</td>\n",
       "      <td>William K.L. Dickson</td>\n",
       "      <td>tt0219560</td>\n",
       "    </tr>\n",
       "    <tr>\n",
       "      <th>1</th>\n",
       "      <td>8</td>\n",
       "      <td>tt0000008</td>\n",
       "      <td>nm0005690</td>\n",
       "      <td>William K.L. Dickson</td>\n",
       "      <td>tt1428455</td>\n",
       "    </tr>\n",
       "  </tbody>\n",
       "</table>\n",
       "</div>"
      ],
      "text/plain": [
       "   imdbId imdb_tconst imdb_directors directors_primaryName  \\\n",
       "0       5   tt0000005      nm0005690  William K.L. Dickson   \n",
       "0       5   tt0000005      nm0005690  William K.L. Dickson   \n",
       "0       5   tt0000005      nm0005690  William K.L. Dickson   \n",
       "0       5   tt0000005      nm0005690  William K.L. Dickson   \n",
       "1       8   tt0000008      nm0005690  William K.L. Dickson   \n",
       "\n",
       "  directors_knownForTitles  \n",
       "0                tt1428455  \n",
       "0                tt1496763  \n",
       "0                tt0308254  \n",
       "0                tt0219560  \n",
       "1                tt1428455  "
      ]
     },
     "execution_count": 133,
     "metadata": {},
     "output_type": "execute_result"
    }
   ],
   "source": [
    "MovieLens_Imdb_aggtd2.head()"
   ]
  },
  {
   "cell_type": "code",
   "execution_count": 43,
   "id": "5ef18bee-4f08-4998-8415-83ddf98d5f4c",
   "metadata": {},
   "outputs": [
    {
     "name": "stdout",
     "output_type": "stream",
     "text": [
      "<class 'pandas.core.frame.DataFrame'>\n",
      "RangeIndex: 116273 entries, 0 to 116272\n",
      "Data columns (total 7 columns):\n",
      " #   Column                    Non-Null Count   Dtype \n",
      "---  ------                    --------------   ----- \n",
      " 0   imdbId                    116273 non-null  int64 \n",
      " 1   imdb_tconst               116223 non-null  string\n",
      " 2   imdb_directors            116193 non-null  object\n",
      " 3   directors_primaryName     116193 non-null  object\n",
      " 4   directors_knownForTitles  116273 non-null  object\n",
      " 5   tconst                    116193 non-null  string\n",
      " 6   primaryTitle              116193 non-null  string\n",
      "dtypes: int64(1), object(3), string(3)\n",
      "memory usage: 6.2+ MB\n"
     ]
    }
   ],
   "source": [
    "### 2. Lire et fusionner directement imdb1 et name_basics\n",
    "\n",
    "MovieLens_Imdb_aggtd2 = MovieLens_Imdb_aggtd2.merge(\n",
    "    pd.read_feather(Imdb_path, columns=['tconst', 'primaryTitle']),\n",
    "    how='left',\n",
    "    left_on='directors_knownForTitles',\n",
    "    right_on='tconst'\n",
    ")\n",
    "\n",
    "MovieLens_Imdb_aggtd2.info()"
   ]
  },
  {
   "cell_type": "code",
   "execution_count": 45,
   "id": "6c39539f-2632-4e13-8e46-784f1fa50782",
   "metadata": {},
   "outputs": [
    {
     "data": {
      "text/html": [
       "<div>\n",
       "<style scoped>\n",
       "    .dataframe tbody tr th:only-of-type {\n",
       "        vertical-align: middle;\n",
       "    }\n",
       "\n",
       "    .dataframe tbody tr th {\n",
       "        vertical-align: top;\n",
       "    }\n",
       "\n",
       "    .dataframe thead th {\n",
       "        text-align: right;\n",
       "    }\n",
       "</style>\n",
       "<table border=\"1\" class=\"dataframe\">\n",
       "  <thead>\n",
       "    <tr style=\"text-align: right;\">\n",
       "      <th></th>\n",
       "      <th>imdbId</th>\n",
       "      <th>imdb_tconst</th>\n",
       "      <th>imdb_directors</th>\n",
       "      <th>directors_primaryName</th>\n",
       "      <th>directors_knownForTitles</th>\n",
       "      <th>directors_knownForTitles_primaryTitle</th>\n",
       "    </tr>\n",
       "  </thead>\n",
       "  <tbody>\n",
       "    <tr>\n",
       "      <th>0</th>\n",
       "      <td>5</td>\n",
       "      <td>tt0000005</td>\n",
       "      <td>nm0005690</td>\n",
       "      <td>William K.L. Dickson</td>\n",
       "      <td>tt1428455</td>\n",
       "      <td>Sandow</td>\n",
       "    </tr>\n",
       "    <tr>\n",
       "      <th>1</th>\n",
       "      <td>5</td>\n",
       "      <td>tt0000005</td>\n",
       "      <td>nm0005690</td>\n",
       "      <td>William K.L. Dickson</td>\n",
       "      <td>tt1496763</td>\n",
       "      <td>Dr. Colton or Dentist Scene</td>\n",
       "    </tr>\n",
       "    <tr>\n",
       "      <th>2</th>\n",
       "      <td>5</td>\n",
       "      <td>tt0000005</td>\n",
       "      <td>nm0005690</td>\n",
       "      <td>William K.L. Dickson</td>\n",
       "      <td>tt0308254</td>\n",
       "      <td>Fencing Contest from 'The Three Musketeers'</td>\n",
       "    </tr>\n",
       "    <tr>\n",
       "      <th>3</th>\n",
       "      <td>5</td>\n",
       "      <td>tt0000005</td>\n",
       "      <td>nm0005690</td>\n",
       "      <td>William K.L. Dickson</td>\n",
       "      <td>tt0219560</td>\n",
       "      <td>The Boxing Cats (Prof. Welton's)</td>\n",
       "    </tr>\n",
       "    <tr>\n",
       "      <th>4</th>\n",
       "      <td>8</td>\n",
       "      <td>tt0000008</td>\n",
       "      <td>nm0005690</td>\n",
       "      <td>William K.L. Dickson</td>\n",
       "      <td>tt1428455</td>\n",
       "      <td>Sandow</td>\n",
       "    </tr>\n",
       "  </tbody>\n",
       "</table>\n",
       "</div>"
      ],
      "text/plain": [
       "   imdbId imdb_tconst imdb_directors directors_primaryName  \\\n",
       "0       5   tt0000005      nm0005690  William K.L. Dickson   \n",
       "1       5   tt0000005      nm0005690  William K.L. Dickson   \n",
       "2       5   tt0000005      nm0005690  William K.L. Dickson   \n",
       "3       5   tt0000005      nm0005690  William K.L. Dickson   \n",
       "4       8   tt0000008      nm0005690  William K.L. Dickson   \n",
       "\n",
       "  directors_knownForTitles        directors_knownForTitles_primaryTitle  \n",
       "0                tt1428455                                       Sandow  \n",
       "1                tt1496763                  Dr. Colton or Dentist Scene  \n",
       "2                tt0308254  Fencing Contest from 'The Three Musketeers'  \n",
       "3                tt0219560             The Boxing Cats (Prof. Welton's)  \n",
       "4                tt1428455                                       Sandow  "
      ]
     },
     "execution_count": 45,
     "metadata": {},
     "output_type": "execute_result"
    }
   ],
   "source": [
    "# Supprimer la colonne 'tconst' du résultat final\n",
    "MovieLens_Imdb_aggtd2 = MovieLens_Imdb_aggtd2.drop(columns=['tconst'])\n",
    "\n",
    "# Renommer les colonnes 'primaryTitle' de  'directors_knownForTitles'\n",
    "MovieLens_Imdb_aggtd2 = MovieLens_Imdb_aggtd2.rename(columns={\n",
    "    'primaryTitle': 'directors_knownForTitles_primaryTitle'\n",
    "})\n",
    "\n",
    "MovieLens_Imdb_aggtd2.head()"
   ]
  },
  {
   "cell_type": "code",
   "execution_count": 47,
   "id": "66b83397-011f-4e07-9111-f6ddae08a98d",
   "metadata": {},
   "outputs": [
    {
     "name": "stdout",
     "output_type": "stream",
     "text": [
      "Y a-t-il des doublons dans le DataFrame ?  False\n"
     ]
    }
   ],
   "source": [
    "# Vérification des doublons \n",
    "doublons = MovieLens_Imdb_aggtd2.duplicated().any()\n",
    "print(\"Y a-t-il des doublons dans le DataFrame ? \", doublons)"
   ]
  },
  {
   "cell_type": "code",
   "execution_count": null,
   "id": "807161a6-6684-4309-baf3-c112f92b2e40",
   "metadata": {},
   "outputs": [],
   "source": []
  },
  {
   "cell_type": "code",
   "execution_count": 49,
   "id": "d832e390-b684-4584-8af5-357c9a1ee3fb",
   "metadata": {},
   "outputs": [],
   "source": [
    "### 3. Regrouper par film\n",
    "\n",
    "# Fonction d'agrégation pour pandas\n",
    "def aggregate_partition(pdf):\n",
    "    return pdf.groupby('imdbId').agg({\n",
    "        'imdb_tconst': 'first',\n",
    "        'imdb_directors': 'first',\n",
    "        'directors_primaryName': 'first',\n",
    "        'directors_knownForTitles': : lambda x: ','.join(x.dropna()),\n",
    "        'directors_knownForTitles_primaryTitle': lambda x: ','.join(x.dropna())  # Joindre les valeurs non-nulles de 'directors_knownForTitles'\n",
    "    })\n"
   ]
  },
  {
   "cell_type": "code",
   "execution_count": 51,
   "id": "88e3c3da-cc7f-4014-8a44-d18162da3a87",
   "metadata": {},
   "outputs": [],
   "source": [
    "# Application de la fonction d'agrégation \n",
    "MovieLens_Imdb_aggtd2 = aggregate_partition(MovieLens_Imdb_aggtd2)"
   ]
  },
  {
   "cell_type": "code",
   "execution_count": 53,
   "id": "beccb738-2c8d-40d7-bda0-7498ba3b07b2",
   "metadata": {},
   "outputs": [
    {
     "name": "stdout",
     "output_type": "stream",
     "text": [
      "<class 'pandas.core.frame.DataFrame'>\n",
      "Index: 26744 entries, 5 to 4530184\n",
      "Data columns (total 5 columns):\n",
      " #   Column                                 Non-Null Count  Dtype \n",
      "---  ------                                 --------------  ----- \n",
      " 0   imdb_tconst                            26694 non-null  string\n",
      " 1   imdb_directors                         26664 non-null  object\n",
      " 2   directors_primaryName                  26664 non-null  object\n",
      " 3   directors_knownForTitles               26744 non-null  object\n",
      " 4   directors_knownForTitles_primaryTitle  26744 non-null  string\n",
      "dtypes: object(3), string(2)\n",
      "memory usage: 1.2+ MB\n"
     ]
    }
   ],
   "source": [
    "MovieLens_Imdb_aggtd2.info()"
   ]
  },
  {
   "cell_type": "code",
   "execution_count": null,
   "id": "11eb9b18-295d-49f2-b881-bf0eea62c489",
   "metadata": {},
   "outputs": [],
   "source": [
    "# Afin d'identifier les vides des colonnes agregées\n",
    "# Remplacement des valeurs dans plusieurs colonnes\n",
    "MovieLens_Imdb_aggregated.replace({\n",
    "    'imdb_directors': {'<NA>': pd.NA},\n",
    "    'directors_primaryName': {'': pd.NA},\n",
    "    'directors_knownForTitles': {'': pd.NA}\n",
    "}, inplace=True)\n",
    "\n",
    "MovieLens_Imdb_aggregated.info()"
   ]
  },
  {
   "cell_type": "code",
   "execution_count": null,
   "id": "5a887ebb-00fd-4a3e-a98d-f254bc4af0eb",
   "metadata": {},
   "outputs": [],
   "source": []
  },
  {
   "cell_type": "code",
   "execution_count": null,
   "id": "db028a63-c850-46fa-8908-b428ab9edcef",
   "metadata": {},
   "outputs": [],
   "source": []
  },
  {
   "cell_type": "code",
   "execution_count": null,
   "id": "4c47a3a0-9237-44aa-b66e-ce2da55f1036",
   "metadata": {},
   "outputs": [],
   "source": []
  },
  {
   "cell_type": "code",
   "execution_count": null,
   "id": "bda796de-75d9-4d60-ac70-eba2a2039690",
   "metadata": {},
   "outputs": [],
   "source": []
  },
  {
   "cell_type": "code",
   "execution_count": null,
   "id": "3a7cf373-e6d6-4443-bcde-2fb990e5207f",
   "metadata": {},
   "outputs": [],
   "source": []
  },
  {
   "cell_type": "code",
   "execution_count": null,
   "id": "12cae852-2187-4060-a659-a8c4b666d145",
   "metadata": {},
   "outputs": [],
   "source": []
  },
  {
   "cell_type": "code",
   "execution_count": null,
   "id": "4c9c7f69-6d5c-477c-97eb-19f6d0f3ec53",
   "metadata": {},
   "outputs": [],
   "source": []
  },
  {
   "cell_type": "code",
   "execution_count": null,
   "id": "3bfae01a-af95-4971-ae80-1f4e4ff31ea9",
   "metadata": {},
   "outputs": [],
   "source": []
  },
  {
   "cell_type": "code",
   "execution_count": null,
   "id": "7052c955-8553-492e-8906-99fa7ed0f6cc",
   "metadata": {},
   "outputs": [],
   "source": []
  },
  {
   "cell_type": "code",
   "execution_count": null,
   "id": "15b14625-8ac3-4f7e-8be0-5fd2a5f5d8d9",
   "metadata": {},
   "outputs": [],
   "source": []
  },
  {
   "cell_type": "code",
   "execution_count": null,
   "id": "1cedf879-6dd5-4ff4-a060-557b72e10f99",
   "metadata": {},
   "outputs": [],
   "source": []
  },
  {
   "cell_type": "code",
   "execution_count": null,
   "id": "bb94fc24-c55c-4e48-927b-4cf18194e415",
   "metadata": {},
   "outputs": [],
   "source": []
  },
  {
   "cell_type": "code",
   "execution_count": null,
   "id": "6444ba53-fb09-4c4b-8a90-d5882da263e8",
   "metadata": {},
   "outputs": [],
   "source": []
  },
  {
   "cell_type": "code",
   "execution_count": null,
   "id": "bd6405dc-0dcf-4731-bbc8-fc66aa928fad",
   "metadata": {},
   "outputs": [],
   "source": []
  },
  {
   "cell_type": "code",
   "execution_count": null,
   "id": "fe3795c0-6eba-4438-877b-edf55455ca49",
   "metadata": {},
   "outputs": [],
   "source": []
  },
  {
   "cell_type": "code",
   "execution_count": null,
   "id": "93b5e129-60c6-4528-85e2-640e1b009e43",
   "metadata": {},
   "outputs": [],
   "source": []
  },
  {
   "cell_type": "code",
   "execution_count": null,
   "id": "46b31899-2257-4109-85bd-c9fc345292ed",
   "metadata": {},
   "outputs": [],
   "source": []
  },
  {
   "cell_type": "code",
   "execution_count": null,
   "id": "f771173a-6a90-4bad-8526-1c05541fc960",
   "metadata": {},
   "outputs": [],
   "source": []
  },
  {
   "cell_type": "code",
   "execution_count": null,
   "id": "5aa3d3c5-f065-4e45-a563-12df1e98ee6b",
   "metadata": {},
   "outputs": [],
   "source": []
  },
  {
   "cell_type": "code",
   "execution_count": null,
   "id": "f3aed6bb-850e-400e-b619-5f9cda716620",
   "metadata": {},
   "outputs": [],
   "source": []
  },
  {
   "cell_type": "code",
   "execution_count": null,
   "id": "3184587d-6eb4-40d1-816f-5f92665c81eb",
   "metadata": {},
   "outputs": [],
   "source": []
  },
  {
   "cell_type": "code",
   "execution_count": null,
   "id": "be8275e9-4c39-4801-8d08-1c885a3d2ee0",
   "metadata": {},
   "outputs": [],
   "source": []
  },
  {
   "cell_type": "code",
   "execution_count": null,
   "id": "40220c1c-3f00-4772-8eae-ec5069f6abd2",
   "metadata": {},
   "outputs": [],
   "source": []
  },
  {
   "cell_type": "code",
   "execution_count": null,
   "id": "931941d8-e364-42d7-92b7-013fe9cb126e",
   "metadata": {},
   "outputs": [],
   "source": []
  },
  {
   "cell_type": "code",
   "execution_count": null,
   "id": "c8fa4cac-0fe2-4197-a929-3a43d03932a9",
   "metadata": {},
   "outputs": [],
   "source": []
  },
  {
   "cell_type": "code",
   "execution_count": null,
   "id": "65ceb40f-5d21-4751-8d28-d1a05a712030",
   "metadata": {},
   "outputs": [],
   "source": []
  },
  {
   "cell_type": "code",
   "execution_count": null,
   "id": "86961177-c6d6-43a9-993b-ef70b34db8b7",
   "metadata": {},
   "outputs": [],
   "source": []
  },
  {
   "cell_type": "code",
   "execution_count": null,
   "id": "eb7f8a94-7ab0-4834-9060-7f43dc4b95a1",
   "metadata": {},
   "outputs": [],
   "source": []
  },
  {
   "cell_type": "code",
   "execution_count": null,
   "id": "cbf7276f-6ddc-442f-911c-51884c1d37e4",
   "metadata": {},
   "outputs": [],
   "source": []
  },
  {
   "cell_type": "code",
   "execution_count": null,
   "id": "0f3f4e84-67c0-45e0-be07-277ff89fca01",
   "metadata": {},
   "outputs": [],
   "source": []
  },
  {
   "cell_type": "code",
   "execution_count": null,
   "id": "c24b2b84-8f12-464d-bd73-4e962c8e9413",
   "metadata": {},
   "outputs": [],
   "source": []
  },
  {
   "cell_type": "code",
   "execution_count": null,
   "id": "3948a461-e52b-4302-919f-5da99f408962",
   "metadata": {},
   "outputs": [],
   "source": []
  },
  {
   "cell_type": "code",
   "execution_count": null,
   "id": "89e25d97-4c55-4840-859c-61430cc7e889",
   "metadata": {},
   "outputs": [],
   "source": []
  },
  {
   "cell_type": "code",
   "execution_count": null,
   "id": "2b82e0b2-7a06-4921-885b-512f333aed7e",
   "metadata": {},
   "outputs": [],
   "source": []
  },
  {
   "cell_type": "code",
   "execution_count": null,
   "id": "791c23a5-c62c-446c-b8af-927890ad5a53",
   "metadata": {},
   "outputs": [],
   "source": []
  }
 ],
 "metadata": {
  "kernelspec": {
   "display_name": "Python 3 (ipykernel)",
   "language": "python",
   "name": "python3"
  },
  "language_info": {
   "codemirror_mode": {
    "name": "ipython",
    "version": 3
   },
   "file_extension": ".py",
   "mimetype": "text/x-python",
   "name": "python",
   "nbconvert_exporter": "python",
   "pygments_lexer": "ipython3",
   "version": "3.12.4"
  }
 },
 "nbformat": 4,
 "nbformat_minor": 5
}
